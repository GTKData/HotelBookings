{
 "cells": [
  {
   "cell_type": "markdown",
   "id": "72999b3a",
   "metadata": {},
   "source": [
    "This is Part 3 a multi-part series exploring a dataset with data on hotel bookings.\n",
    "\n",
    "I found the original hotel booking demand data at <a href=\"https://www.sciencedirect.com/science/article/pii/S2352340918315191\" target=\"_blank\">ScienceDirect</a>. It's also available in a slightly more processed form on <a href=\"https://www.kaggle.com/jessemostipak/hotel-booking-demand\" target=\"_blank\">Kaggle</a>.\n",
    "\n",
    "This first block of code gets us to the point where we left off in <a href=\"https://gettoknowdata.com/hotel-bookings-part-2/\" target=\"_blank\">Part 2</a>."
   ]
  },
  {
   "cell_type": "code",
   "execution_count": 1,
   "id": "c9a27db9",
   "metadata": {},
   "outputs": [],
   "source": [
    "###############################################\n",
    "######## START CODE FROM PARTS 1 AND 2 ########\n",
    "###############################################\n",
    "\n",
    "# Import pandas \n",
    "# so we can view the data \n",
    "# as a dataframe\n",
    "# Import calendar \n",
    "# so we can work with dates and times\n",
    "import pandas as pd \n",
    "import calendar\n",
    "\n",
    "# Read the resort hotel data (H1.csv) \n",
    "# and city hotel data (H2.csv)\n",
    "# into two separate dataframes \n",
    "# named resort_hotel and\n",
    "# city_hotel  data, respecively\n",
    "resort_hotel = \\\n",
    "    pd.read_csv('H1.csv')\n",
    "\n",
    "city_hotel = \\\n",
    "    pd.read_csv('H2.csv')\n",
    "\n",
    "# Change all of the NaN values\n",
    "# in the Children column\n",
    "# of the city hotel dataframe\n",
    "# from NaN to 0\n",
    "city_hotel['Children'].fillna(value=0,\n",
    "                              inplace=True)\n",
    "\n",
    "# Change the datatype \n",
    "# of the Children column\n",
    "# in the city hotel dataframe\n",
    "# to int64\n",
    "city_hotel['Children'] = \\\n",
    "    city_hotel['Children'].astype('int64')\n",
    "\n",
    "# Add a Hotel column to \n",
    "# both the resort hotel dataframe\n",
    "# and the city hotel dataframe\n",
    "# and fill each with 'Resort' and\n",
    "# 'City', respectively\"\n",
    "resort_hotel['Hotel'] = \\\n",
    "    'Resort'\n",
    "city_hotel['Hotel'] = \\\n",
    "    'City'\n",
    "\n",
    "# Combine (concatenate) the\n",
    "# resort hotel dataframe and the\n",
    "# city hotel dataframe\n",
    "# into a single dataframe\n",
    "# named resort_and_city_hotel\n",
    "resort_and_city_hotel = \\\n",
    "    pd.concat([resort_hotel,\n",
    "               city_hotel],\n",
    "              axis=0)\n",
    "\n",
    "# Reset the index of the\n",
    "# resort and city hotel dataframe\n",
    "resort_and_city_hotel.reset_index(drop=True,\n",
    "                                  inplace=True)\n",
    "\n",
    "# Map month names to integers\n",
    "months = {'January':1,\n",
    "          'February':2,\n",
    "          'March':3,\n",
    "          'April':4,\n",
    "          'May': 5,\n",
    "          'June': 6,\n",
    "          'July': 7,\n",
    "          'August': 8,\n",
    "          'September': 9,\n",
    "          'October': 10,\n",
    "          'November': 11,\n",
    "          'December': 12}\n",
    "\n",
    "# Replace the categorical month names\n",
    "# in the ArrivalDateMonth variable\n",
    "# with the integers \n",
    "# from the months dictionary\n",
    "resort_and_city_hotel.ArrivalDateMonth = \\\n",
    "    resort_and_city_hotel.ArrivalDateMonth.map(months)\n",
    "\n",
    "# Rename the ArrivalDateYear, \n",
    "# ArrivalDateMonth, and \n",
    "# ArrivalDateDayOfMonth variables\n",
    "# to year, month, day (respectively) \n",
    "# so the date concat will work\n",
    "resort_and_city_hotel.rename(columns=\n",
    "                             {'ArrivalDateYear': 'year',\n",
    "                              'ArrivalDateMonth': 'month',\n",
    "                              'ArrivalDateDayOfMonth': 'day'},\n",
    "                             inplace=True)\n",
    "\n",
    "# Add the new ArrivalDate column\n",
    "# cast this new column as\n",
    "# a datetime datatype\n",
    "# and combine the the \n",
    "# year, month, and day columns \n",
    "# to create the (new) dates\n",
    "resort_and_city_hotel['ArrivalDate'] = \\\n",
    "    pd.to_datetime(resort_and_city_hotel[[\n",
    "    'year', \n",
    "    'month', \n",
    "    'day']])\n",
    "\n",
    "# Drop the year, month, day, \n",
    "# ArrivalDateWeekNumber,\n",
    "# StaysInWeekendNights, and \n",
    "# StaysInWeekNights columns\n",
    "# from the resort and city hotel dataframe\n",
    "resort_and_city_hotel.drop(['year',\n",
    "                            'month',\n",
    "                            'day',\n",
    "                            'ArrivalDateWeekNumber',\n",
    "                            'StaysInWeekendNights',\n",
    "                            'StaysInWeekNights'],\n",
    "                           axis=1,\n",
    "                           inplace=True)\n",
    "\n",
    "# Change the ReservationStatusDate \n",
    "# to the datetime64[ns] datatype\n",
    "resort_and_city_hotel['ReservationStatusDate'] = \\\n",
    "    resort_and_city_hotel['ReservationStatusDate'] \\\n",
    "    .astype('datetime64[ns]')\n",
    "\n",
    "# In the resort_and_city_hotel dataframe\n",
    "# change every 0 to an n\n",
    "# and every 1 to a y\n",
    "# in the IsCanceled and\n",
    "# IsRepeatedGuest columns\n",
    "resort_and_city_hotel.loc[\n",
    "    resort_and_city_hotel['IsCanceled'] == 0,\n",
    "    'IsCanceled'] = 'n'\n",
    "resort_and_city_hotel.loc[\n",
    "    resort_and_city_hotel['IsCanceled'] == 1,\n",
    "    'IsCanceled'] = 'y'\n",
    "resort_and_city_hotel.loc[\n",
    "    resort_and_city_hotel['IsRepeatedGuest'] == 0,\n",
    "    'IsRepeatedGuest'] = 'n'\n",
    "resort_and_city_hotel.loc[\n",
    "    resort_and_city_hotel['IsRepeatedGuest'] == 1,\n",
    "    'IsRepeatedGuest'] = 'y'\n",
    "\n",
    "# Reorder the columns in the\n",
    "# resort_and_city_hotel dataframe\n",
    "resort_and_city_hotel = resort_and_city_hotel[\n",
    "    ['Adults',\n",
    "     'Children',\n",
    "     'Babies',\n",
    "     'Meal',\n",
    "     'ReservedRoomType',\n",
    "     'RequiredCarParkingSpaces',\n",
    "     'Country',\n",
    "     'ArrivalDate',\n",
    "     'Agent',\n",
    "     'Company',\n",
    "     'CustomerType',\n",
    "     'IsRepeatedGuest',\n",
    "     'PreviousCancellations',\n",
    "     'PreviousBookingsNotCanceled',\n",
    "     'Hotel',\n",
    "     'IsCanceled',\n",
    "     'BookingChanges',\n",
    "     'DaysInWaitingList',\n",
    "     'TotalOfSpecialRequests',\n",
    "     'DepositType',\n",
    "     'MarketSegment',\n",
    "     'DistributionChannel',\n",
    "     'AssignedRoomType',\n",
    "     'ADR',\n",
    "     'LeadTime',\n",
    "     'ReservationStatus',\n",
    "     'ReservationStatusDate']]\n",
    "\n",
    "###############################################\n",
    "######## END CODE FROM PARTS 1 AND 2 ##########\n",
    "###############################################"
   ]
  },
  {
   "cell_type": "markdown",
   "id": "746a4fec",
   "metadata": {},
   "source": [
    "Let's take a look at the dataframe."
   ]
  },
  {
   "cell_type": "code",
   "execution_count": 2,
   "id": "d119e87e",
   "metadata": {},
   "outputs": [
    {
     "data": {
      "text/html": [
       "<div>\n",
       "<style scoped>\n",
       "    .dataframe tbody tr th:only-of-type {\n",
       "        vertical-align: middle;\n",
       "    }\n",
       "\n",
       "    .dataframe tbody tr th {\n",
       "        vertical-align: top;\n",
       "    }\n",
       "\n",
       "    .dataframe thead th {\n",
       "        text-align: right;\n",
       "    }\n",
       "</style>\n",
       "<table border=\"1\" class=\"dataframe\">\n",
       "  <thead>\n",
       "    <tr style=\"text-align: right;\">\n",
       "      <th></th>\n",
       "      <th>Adults</th>\n",
       "      <th>Children</th>\n",
       "      <th>Babies</th>\n",
       "      <th>Meal</th>\n",
       "      <th>ReservedRoomType</th>\n",
       "      <th>RequiredCarParkingSpaces</th>\n",
       "      <th>Country</th>\n",
       "      <th>ArrivalDate</th>\n",
       "      <th>Agent</th>\n",
       "      <th>Company</th>\n",
       "      <th>...</th>\n",
       "      <th>DaysInWaitingList</th>\n",
       "      <th>TotalOfSpecialRequests</th>\n",
       "      <th>DepositType</th>\n",
       "      <th>MarketSegment</th>\n",
       "      <th>DistributionChannel</th>\n",
       "      <th>AssignedRoomType</th>\n",
       "      <th>ADR</th>\n",
       "      <th>LeadTime</th>\n",
       "      <th>ReservationStatus</th>\n",
       "      <th>ReservationStatusDate</th>\n",
       "    </tr>\n",
       "  </thead>\n",
       "  <tbody>\n",
       "    <tr>\n",
       "      <th>0</th>\n",
       "      <td>2</td>\n",
       "      <td>0</td>\n",
       "      <td>0</td>\n",
       "      <td>BB</td>\n",
       "      <td>C</td>\n",
       "      <td>0</td>\n",
       "      <td>PRT</td>\n",
       "      <td>2015-07-01</td>\n",
       "      <td>NULL</td>\n",
       "      <td>NULL</td>\n",
       "      <td>...</td>\n",
       "      <td>0</td>\n",
       "      <td>0</td>\n",
       "      <td>No Deposit</td>\n",
       "      <td>Direct</td>\n",
       "      <td>Direct</td>\n",
       "      <td>C</td>\n",
       "      <td>0.00</td>\n",
       "      <td>342</td>\n",
       "      <td>Check-Out</td>\n",
       "      <td>2015-07-01</td>\n",
       "    </tr>\n",
       "    <tr>\n",
       "      <th>1</th>\n",
       "      <td>2</td>\n",
       "      <td>0</td>\n",
       "      <td>0</td>\n",
       "      <td>BB</td>\n",
       "      <td>C</td>\n",
       "      <td>0</td>\n",
       "      <td>PRT</td>\n",
       "      <td>2015-07-01</td>\n",
       "      <td>NULL</td>\n",
       "      <td>NULL</td>\n",
       "      <td>...</td>\n",
       "      <td>0</td>\n",
       "      <td>0</td>\n",
       "      <td>No Deposit</td>\n",
       "      <td>Direct</td>\n",
       "      <td>Direct</td>\n",
       "      <td>C</td>\n",
       "      <td>0.00</td>\n",
       "      <td>737</td>\n",
       "      <td>Check-Out</td>\n",
       "      <td>2015-07-01</td>\n",
       "    </tr>\n",
       "    <tr>\n",
       "      <th>2</th>\n",
       "      <td>1</td>\n",
       "      <td>0</td>\n",
       "      <td>0</td>\n",
       "      <td>BB</td>\n",
       "      <td>A</td>\n",
       "      <td>0</td>\n",
       "      <td>GBR</td>\n",
       "      <td>2015-07-01</td>\n",
       "      <td>NULL</td>\n",
       "      <td>NULL</td>\n",
       "      <td>...</td>\n",
       "      <td>0</td>\n",
       "      <td>0</td>\n",
       "      <td>No Deposit</td>\n",
       "      <td>Direct</td>\n",
       "      <td>Direct</td>\n",
       "      <td>C</td>\n",
       "      <td>75.00</td>\n",
       "      <td>7</td>\n",
       "      <td>Check-Out</td>\n",
       "      <td>2015-07-02</td>\n",
       "    </tr>\n",
       "    <tr>\n",
       "      <th>3</th>\n",
       "      <td>1</td>\n",
       "      <td>0</td>\n",
       "      <td>0</td>\n",
       "      <td>BB</td>\n",
       "      <td>A</td>\n",
       "      <td>0</td>\n",
       "      <td>GBR</td>\n",
       "      <td>2015-07-01</td>\n",
       "      <td>304</td>\n",
       "      <td>NULL</td>\n",
       "      <td>...</td>\n",
       "      <td>0</td>\n",
       "      <td>0</td>\n",
       "      <td>No Deposit</td>\n",
       "      <td>Corporate</td>\n",
       "      <td>Corporate</td>\n",
       "      <td>A</td>\n",
       "      <td>75.00</td>\n",
       "      <td>13</td>\n",
       "      <td>Check-Out</td>\n",
       "      <td>2015-07-02</td>\n",
       "    </tr>\n",
       "    <tr>\n",
       "      <th>4</th>\n",
       "      <td>2</td>\n",
       "      <td>0</td>\n",
       "      <td>0</td>\n",
       "      <td>BB</td>\n",
       "      <td>A</td>\n",
       "      <td>0</td>\n",
       "      <td>GBR</td>\n",
       "      <td>2015-07-01</td>\n",
       "      <td>240</td>\n",
       "      <td>NULL</td>\n",
       "      <td>...</td>\n",
       "      <td>0</td>\n",
       "      <td>1</td>\n",
       "      <td>No Deposit</td>\n",
       "      <td>Online TA</td>\n",
       "      <td>TA/TO</td>\n",
       "      <td>A</td>\n",
       "      <td>98.00</td>\n",
       "      <td>14</td>\n",
       "      <td>Check-Out</td>\n",
       "      <td>2015-07-03</td>\n",
       "    </tr>\n",
       "    <tr>\n",
       "      <th>...</th>\n",
       "      <td>...</td>\n",
       "      <td>...</td>\n",
       "      <td>...</td>\n",
       "      <td>...</td>\n",
       "      <td>...</td>\n",
       "      <td>...</td>\n",
       "      <td>...</td>\n",
       "      <td>...</td>\n",
       "      <td>...</td>\n",
       "      <td>...</td>\n",
       "      <td>...</td>\n",
       "      <td>...</td>\n",
       "      <td>...</td>\n",
       "      <td>...</td>\n",
       "      <td>...</td>\n",
       "      <td>...</td>\n",
       "      <td>...</td>\n",
       "      <td>...</td>\n",
       "      <td>...</td>\n",
       "      <td>...</td>\n",
       "      <td>...</td>\n",
       "    </tr>\n",
       "    <tr>\n",
       "      <th>119385</th>\n",
       "      <td>2</td>\n",
       "      <td>0</td>\n",
       "      <td>0</td>\n",
       "      <td>BB</td>\n",
       "      <td>A</td>\n",
       "      <td>0</td>\n",
       "      <td>BEL</td>\n",
       "      <td>2017-08-30</td>\n",
       "      <td>394</td>\n",
       "      <td>NULL</td>\n",
       "      <td>...</td>\n",
       "      <td>0</td>\n",
       "      <td>0</td>\n",
       "      <td>No Deposit</td>\n",
       "      <td>Offline TA/TO</td>\n",
       "      <td>TA/TO</td>\n",
       "      <td>A</td>\n",
       "      <td>96.14</td>\n",
       "      <td>23</td>\n",
       "      <td>Check-Out</td>\n",
       "      <td>2017-09-06</td>\n",
       "    </tr>\n",
       "    <tr>\n",
       "      <th>119386</th>\n",
       "      <td>3</td>\n",
       "      <td>0</td>\n",
       "      <td>0</td>\n",
       "      <td>BB</td>\n",
       "      <td>E</td>\n",
       "      <td>0</td>\n",
       "      <td>FRA</td>\n",
       "      <td>2017-08-31</td>\n",
       "      <td>9</td>\n",
       "      <td>NULL</td>\n",
       "      <td>...</td>\n",
       "      <td>0</td>\n",
       "      <td>2</td>\n",
       "      <td>No Deposit</td>\n",
       "      <td>Online TA</td>\n",
       "      <td>TA/TO</td>\n",
       "      <td>E</td>\n",
       "      <td>225.43</td>\n",
       "      <td>102</td>\n",
       "      <td>Check-Out</td>\n",
       "      <td>2017-09-07</td>\n",
       "    </tr>\n",
       "    <tr>\n",
       "      <th>119387</th>\n",
       "      <td>2</td>\n",
       "      <td>0</td>\n",
       "      <td>0</td>\n",
       "      <td>BB</td>\n",
       "      <td>D</td>\n",
       "      <td>0</td>\n",
       "      <td>DEU</td>\n",
       "      <td>2017-08-31</td>\n",
       "      <td>9</td>\n",
       "      <td>NULL</td>\n",
       "      <td>...</td>\n",
       "      <td>0</td>\n",
       "      <td>4</td>\n",
       "      <td>No Deposit</td>\n",
       "      <td>Online TA</td>\n",
       "      <td>TA/TO</td>\n",
       "      <td>D</td>\n",
       "      <td>157.71</td>\n",
       "      <td>34</td>\n",
       "      <td>Check-Out</td>\n",
       "      <td>2017-09-07</td>\n",
       "    </tr>\n",
       "    <tr>\n",
       "      <th>119388</th>\n",
       "      <td>2</td>\n",
       "      <td>0</td>\n",
       "      <td>0</td>\n",
       "      <td>BB</td>\n",
       "      <td>A</td>\n",
       "      <td>0</td>\n",
       "      <td>GBR</td>\n",
       "      <td>2017-08-31</td>\n",
       "      <td>89</td>\n",
       "      <td>NULL</td>\n",
       "      <td>...</td>\n",
       "      <td>0</td>\n",
       "      <td>0</td>\n",
       "      <td>No Deposit</td>\n",
       "      <td>Online TA</td>\n",
       "      <td>TA/TO</td>\n",
       "      <td>A</td>\n",
       "      <td>104.40</td>\n",
       "      <td>109</td>\n",
       "      <td>Check-Out</td>\n",
       "      <td>2017-09-07</td>\n",
       "    </tr>\n",
       "    <tr>\n",
       "      <th>119389</th>\n",
       "      <td>2</td>\n",
       "      <td>0</td>\n",
       "      <td>0</td>\n",
       "      <td>HB</td>\n",
       "      <td>A</td>\n",
       "      <td>0</td>\n",
       "      <td>DEU</td>\n",
       "      <td>2017-08-29</td>\n",
       "      <td>9</td>\n",
       "      <td>NULL</td>\n",
       "      <td>...</td>\n",
       "      <td>0</td>\n",
       "      <td>2</td>\n",
       "      <td>No Deposit</td>\n",
       "      <td>Online TA</td>\n",
       "      <td>TA/TO</td>\n",
       "      <td>A</td>\n",
       "      <td>151.20</td>\n",
       "      <td>205</td>\n",
       "      <td>Check-Out</td>\n",
       "      <td>2017-09-07</td>\n",
       "    </tr>\n",
       "  </tbody>\n",
       "</table>\n",
       "<p>119390 rows × 27 columns</p>\n",
       "</div>"
      ],
      "text/plain": [
       "        Adults  Children  Babies       Meal  ReservedRoomType  \\\n",
       "0            2         0       0  BB         C                  \n",
       "1            2         0       0  BB         C                  \n",
       "2            1         0       0  BB         A                  \n",
       "3            1         0       0  BB         A                  \n",
       "4            2         0       0  BB         A                  \n",
       "...        ...       ...     ...        ...               ...   \n",
       "119385       2         0       0  BB         A                  \n",
       "119386       3         0       0  BB         E                  \n",
       "119387       2         0       0  BB         D                  \n",
       "119388       2         0       0  BB         A                  \n",
       "119389       2         0       0  HB         A                  \n",
       "\n",
       "        RequiredCarParkingSpaces Country ArrivalDate        Agent  \\\n",
       "0                              0     PRT  2015-07-01         NULL   \n",
       "1                              0     PRT  2015-07-01         NULL   \n",
       "2                              0     GBR  2015-07-01         NULL   \n",
       "3                              0     GBR  2015-07-01          304   \n",
       "4                              0     GBR  2015-07-01          240   \n",
       "...                          ...     ...         ...          ...   \n",
       "119385                         0     BEL  2017-08-30          394   \n",
       "119386                         0     FRA  2017-08-31            9   \n",
       "119387                         0     DEU  2017-08-31            9   \n",
       "119388                         0     GBR  2017-08-31           89   \n",
       "119389                         0     DEU  2017-08-29            9   \n",
       "\n",
       "            Company  ... DaysInWaitingList TotalOfSpecialRequests  \\\n",
       "0              NULL  ...                 0                      0   \n",
       "1              NULL  ...                 0                      0   \n",
       "2              NULL  ...                 0                      0   \n",
       "3              NULL  ...                 0                      0   \n",
       "4              NULL  ...                 0                      1   \n",
       "...             ...  ...               ...                    ...   \n",
       "119385         NULL  ...                 0                      0   \n",
       "119386         NULL  ...                 0                      2   \n",
       "119387         NULL  ...                 0                      4   \n",
       "119388         NULL  ...                 0                      0   \n",
       "119389         NULL  ...                 0                      2   \n",
       "\n",
       "            DepositType  MarketSegment DistributionChannel  AssignedRoomType  \\\n",
       "0       No Deposit              Direct              Direct  C                  \n",
       "1       No Deposit              Direct              Direct  C                  \n",
       "2       No Deposit              Direct              Direct  C                  \n",
       "3       No Deposit           Corporate           Corporate  A                  \n",
       "4       No Deposit           Online TA               TA/TO  A                  \n",
       "...                 ...            ...                 ...               ...   \n",
       "119385  No Deposit       Offline TA/TO               TA/TO  A                  \n",
       "119386  No Deposit           Online TA               TA/TO  E                  \n",
       "119387  No Deposit           Online TA               TA/TO  D                  \n",
       "119388  No Deposit           Online TA               TA/TO  A                  \n",
       "119389  No Deposit           Online TA               TA/TO  A                  \n",
       "\n",
       "           ADR  LeadTime  ReservationStatus ReservationStatusDate  \n",
       "0         0.00       342          Check-Out            2015-07-01  \n",
       "1         0.00       737          Check-Out            2015-07-01  \n",
       "2        75.00         7          Check-Out            2015-07-02  \n",
       "3        75.00        13          Check-Out            2015-07-02  \n",
       "4        98.00        14          Check-Out            2015-07-03  \n",
       "...        ...       ...                ...                   ...  \n",
       "119385   96.14        23          Check-Out            2017-09-06  \n",
       "119386  225.43       102          Check-Out            2017-09-07  \n",
       "119387  157.71        34          Check-Out            2017-09-07  \n",
       "119388  104.40       109          Check-Out            2017-09-07  \n",
       "119389  151.20       205          Check-Out            2017-09-07  \n",
       "\n",
       "[119390 rows x 27 columns]"
      ]
     },
     "execution_count": 2,
     "metadata": {},
     "output_type": "execute_result"
    }
   ],
   "source": [
    "resort_and_city_hotel"
   ]
  },
  {
   "cell_type": "markdown",
   "id": "3b0e97ec",
   "metadata": {},
   "source": [
    "Okay. Good. That's what we were expecting: 119,390 rows and 27 variables (columns).\n",
    "\n",
    "And let's look at the datatypes again."
   ]
  },
  {
   "cell_type": "code",
   "execution_count": 3,
   "id": "861e168e",
   "metadata": {},
   "outputs": [
    {
     "name": "stdout",
     "output_type": "stream",
     "text": [
      "<class 'pandas.core.frame.DataFrame'>\n",
      "RangeIndex: 119390 entries, 0 to 119389\n",
      "Data columns (total 27 columns):\n",
      " #   Column                       Non-Null Count   Dtype         \n",
      "---  ------                       --------------   -----         \n",
      " 0   Adults                       119390 non-null  int64         \n",
      " 1   Children                     119390 non-null  int64         \n",
      " 2   Babies                       119390 non-null  int64         \n",
      " 3   Meal                         119390 non-null  object        \n",
      " 4   ReservedRoomType             119390 non-null  object        \n",
      " 5   RequiredCarParkingSpaces     119390 non-null  int64         \n",
      " 6   Country                      118902 non-null  object        \n",
      " 7   ArrivalDate                  119390 non-null  datetime64[ns]\n",
      " 8   Agent                        119390 non-null  object        \n",
      " 9   Company                      119390 non-null  object        \n",
      " 10  CustomerType                 119390 non-null  object        \n",
      " 11  IsRepeatedGuest              119390 non-null  object        \n",
      " 12  PreviousCancellations        119390 non-null  int64         \n",
      " 13  PreviousBookingsNotCanceled  119390 non-null  int64         \n",
      " 14  Hotel                        119390 non-null  object        \n",
      " 15  IsCanceled                   119390 non-null  object        \n",
      " 16  BookingChanges               119390 non-null  int64         \n",
      " 17  DaysInWaitingList            119390 non-null  int64         \n",
      " 18  TotalOfSpecialRequests       119390 non-null  int64         \n",
      " 19  DepositType                  119390 non-null  object        \n",
      " 20  MarketSegment                119390 non-null  object        \n",
      " 21  DistributionChannel          119390 non-null  object        \n",
      " 22  AssignedRoomType             119390 non-null  object        \n",
      " 23  ADR                          119390 non-null  float64       \n",
      " 24  LeadTime                     119390 non-null  int64         \n",
      " 25  ReservationStatus            119390 non-null  object        \n",
      " 26  ReservationStatusDate        119390 non-null  datetime64[ns]\n",
      "dtypes: datetime64[ns](2), float64(1), int64(10), object(14)\n",
      "memory usage: 24.6+ MB\n"
     ]
    }
   ],
   "source": [
    "resort_and_city_hotel.info()"
   ]
  },
  {
   "cell_type": "markdown",
   "id": "84235a6e",
   "metadata": {},
   "source": [
    "In this post, I'm going to start exploring individual *categorical* (aka *qualitative*) variables. \n",
    "\n",
    "Let's take a look at all of the categorical variables. *Note:* This is one of the reasons why, in <a href=\"https://gettoknowdata.com/hotel-bookings-part-2/\" target=\"_blank\">Part 2 of this series</a>, we changed the IsCanceled and IsRepeatedGuest *categorical* variables from ints to objects. If we had not done this, then those columns wouldn't appear in this view of all of the *categorical* variables."
   ]
  },
  {
   "cell_type": "code",
   "execution_count": 4,
   "id": "c561c067",
   "metadata": {},
   "outputs": [
    {
     "data": {
      "text/html": [
       "<div>\n",
       "<style scoped>\n",
       "    .dataframe tbody tr th:only-of-type {\n",
       "        vertical-align: middle;\n",
       "    }\n",
       "\n",
       "    .dataframe tbody tr th {\n",
       "        vertical-align: top;\n",
       "    }\n",
       "\n",
       "    .dataframe thead th {\n",
       "        text-align: right;\n",
       "    }\n",
       "</style>\n",
       "<table border=\"1\" class=\"dataframe\">\n",
       "  <thead>\n",
       "    <tr style=\"text-align: right;\">\n",
       "      <th></th>\n",
       "      <th>Meal</th>\n",
       "      <th>ReservedRoomType</th>\n",
       "      <th>Country</th>\n",
       "      <th>Agent</th>\n",
       "      <th>Company</th>\n",
       "      <th>CustomerType</th>\n",
       "      <th>IsRepeatedGuest</th>\n",
       "      <th>Hotel</th>\n",
       "      <th>IsCanceled</th>\n",
       "      <th>DepositType</th>\n",
       "      <th>MarketSegment</th>\n",
       "      <th>DistributionChannel</th>\n",
       "      <th>AssignedRoomType</th>\n",
       "      <th>ReservationStatus</th>\n",
       "    </tr>\n",
       "  </thead>\n",
       "  <tbody>\n",
       "    <tr>\n",
       "      <th>0</th>\n",
       "      <td>BB</td>\n",
       "      <td>C</td>\n",
       "      <td>PRT</td>\n",
       "      <td>NULL</td>\n",
       "      <td>NULL</td>\n",
       "      <td>Transient</td>\n",
       "      <td>n</td>\n",
       "      <td>Resort</td>\n",
       "      <td>n</td>\n",
       "      <td>No Deposit</td>\n",
       "      <td>Direct</td>\n",
       "      <td>Direct</td>\n",
       "      <td>C</td>\n",
       "      <td>Check-Out</td>\n",
       "    </tr>\n",
       "    <tr>\n",
       "      <th>1</th>\n",
       "      <td>BB</td>\n",
       "      <td>C</td>\n",
       "      <td>PRT</td>\n",
       "      <td>NULL</td>\n",
       "      <td>NULL</td>\n",
       "      <td>Transient</td>\n",
       "      <td>n</td>\n",
       "      <td>Resort</td>\n",
       "      <td>n</td>\n",
       "      <td>No Deposit</td>\n",
       "      <td>Direct</td>\n",
       "      <td>Direct</td>\n",
       "      <td>C</td>\n",
       "      <td>Check-Out</td>\n",
       "    </tr>\n",
       "    <tr>\n",
       "      <th>2</th>\n",
       "      <td>BB</td>\n",
       "      <td>A</td>\n",
       "      <td>GBR</td>\n",
       "      <td>NULL</td>\n",
       "      <td>NULL</td>\n",
       "      <td>Transient</td>\n",
       "      <td>n</td>\n",
       "      <td>Resort</td>\n",
       "      <td>n</td>\n",
       "      <td>No Deposit</td>\n",
       "      <td>Direct</td>\n",
       "      <td>Direct</td>\n",
       "      <td>C</td>\n",
       "      <td>Check-Out</td>\n",
       "    </tr>\n",
       "    <tr>\n",
       "      <th>3</th>\n",
       "      <td>BB</td>\n",
       "      <td>A</td>\n",
       "      <td>GBR</td>\n",
       "      <td>304</td>\n",
       "      <td>NULL</td>\n",
       "      <td>Transient</td>\n",
       "      <td>n</td>\n",
       "      <td>Resort</td>\n",
       "      <td>n</td>\n",
       "      <td>No Deposit</td>\n",
       "      <td>Corporate</td>\n",
       "      <td>Corporate</td>\n",
       "      <td>A</td>\n",
       "      <td>Check-Out</td>\n",
       "    </tr>\n",
       "    <tr>\n",
       "      <th>4</th>\n",
       "      <td>BB</td>\n",
       "      <td>A</td>\n",
       "      <td>GBR</td>\n",
       "      <td>240</td>\n",
       "      <td>NULL</td>\n",
       "      <td>Transient</td>\n",
       "      <td>n</td>\n",
       "      <td>Resort</td>\n",
       "      <td>n</td>\n",
       "      <td>No Deposit</td>\n",
       "      <td>Online TA</td>\n",
       "      <td>TA/TO</td>\n",
       "      <td>A</td>\n",
       "      <td>Check-Out</td>\n",
       "    </tr>\n",
       "    <tr>\n",
       "      <th>...</th>\n",
       "      <td>...</td>\n",
       "      <td>...</td>\n",
       "      <td>...</td>\n",
       "      <td>...</td>\n",
       "      <td>...</td>\n",
       "      <td>...</td>\n",
       "      <td>...</td>\n",
       "      <td>...</td>\n",
       "      <td>...</td>\n",
       "      <td>...</td>\n",
       "      <td>...</td>\n",
       "      <td>...</td>\n",
       "      <td>...</td>\n",
       "      <td>...</td>\n",
       "    </tr>\n",
       "    <tr>\n",
       "      <th>119385</th>\n",
       "      <td>BB</td>\n",
       "      <td>A</td>\n",
       "      <td>BEL</td>\n",
       "      <td>394</td>\n",
       "      <td>NULL</td>\n",
       "      <td>Transient</td>\n",
       "      <td>n</td>\n",
       "      <td>City</td>\n",
       "      <td>n</td>\n",
       "      <td>No Deposit</td>\n",
       "      <td>Offline TA/TO</td>\n",
       "      <td>TA/TO</td>\n",
       "      <td>A</td>\n",
       "      <td>Check-Out</td>\n",
       "    </tr>\n",
       "    <tr>\n",
       "      <th>119386</th>\n",
       "      <td>BB</td>\n",
       "      <td>E</td>\n",
       "      <td>FRA</td>\n",
       "      <td>9</td>\n",
       "      <td>NULL</td>\n",
       "      <td>Transient</td>\n",
       "      <td>n</td>\n",
       "      <td>City</td>\n",
       "      <td>n</td>\n",
       "      <td>No Deposit</td>\n",
       "      <td>Online TA</td>\n",
       "      <td>TA/TO</td>\n",
       "      <td>E</td>\n",
       "      <td>Check-Out</td>\n",
       "    </tr>\n",
       "    <tr>\n",
       "      <th>119387</th>\n",
       "      <td>BB</td>\n",
       "      <td>D</td>\n",
       "      <td>DEU</td>\n",
       "      <td>9</td>\n",
       "      <td>NULL</td>\n",
       "      <td>Transient</td>\n",
       "      <td>n</td>\n",
       "      <td>City</td>\n",
       "      <td>n</td>\n",
       "      <td>No Deposit</td>\n",
       "      <td>Online TA</td>\n",
       "      <td>TA/TO</td>\n",
       "      <td>D</td>\n",
       "      <td>Check-Out</td>\n",
       "    </tr>\n",
       "    <tr>\n",
       "      <th>119388</th>\n",
       "      <td>BB</td>\n",
       "      <td>A</td>\n",
       "      <td>GBR</td>\n",
       "      <td>89</td>\n",
       "      <td>NULL</td>\n",
       "      <td>Transient</td>\n",
       "      <td>n</td>\n",
       "      <td>City</td>\n",
       "      <td>n</td>\n",
       "      <td>No Deposit</td>\n",
       "      <td>Online TA</td>\n",
       "      <td>TA/TO</td>\n",
       "      <td>A</td>\n",
       "      <td>Check-Out</td>\n",
       "    </tr>\n",
       "    <tr>\n",
       "      <th>119389</th>\n",
       "      <td>HB</td>\n",
       "      <td>A</td>\n",
       "      <td>DEU</td>\n",
       "      <td>9</td>\n",
       "      <td>NULL</td>\n",
       "      <td>Transient</td>\n",
       "      <td>n</td>\n",
       "      <td>City</td>\n",
       "      <td>n</td>\n",
       "      <td>No Deposit</td>\n",
       "      <td>Online TA</td>\n",
       "      <td>TA/TO</td>\n",
       "      <td>A</td>\n",
       "      <td>Check-Out</td>\n",
       "    </tr>\n",
       "  </tbody>\n",
       "</table>\n",
       "<p>119390 rows × 14 columns</p>\n",
       "</div>"
      ],
      "text/plain": [
       "             Meal  ReservedRoomType Country        Agent      Company  \\\n",
       "0       BB         C                    PRT         NULL         NULL   \n",
       "1       BB         C                    PRT         NULL         NULL   \n",
       "2       BB         A                    GBR         NULL         NULL   \n",
       "3       BB         A                    GBR          304         NULL   \n",
       "4       BB         A                    GBR          240         NULL   \n",
       "...           ...               ...     ...          ...          ...   \n",
       "119385  BB         A                    BEL          394         NULL   \n",
       "119386  BB         E                    FRA            9         NULL   \n",
       "119387  BB         D                    DEU            9         NULL   \n",
       "119388  BB         A                    GBR           89         NULL   \n",
       "119389  HB         A                    DEU            9         NULL   \n",
       "\n",
       "       CustomerType IsRepeatedGuest   Hotel IsCanceled      DepositType  \\\n",
       "0         Transient               n  Resort          n  No Deposit        \n",
       "1         Transient               n  Resort          n  No Deposit        \n",
       "2         Transient               n  Resort          n  No Deposit        \n",
       "3         Transient               n  Resort          n  No Deposit        \n",
       "4         Transient               n  Resort          n  No Deposit        \n",
       "...             ...             ...     ...        ...              ...   \n",
       "119385    Transient               n    City          n  No Deposit        \n",
       "119386    Transient               n    City          n  No Deposit        \n",
       "119387    Transient               n    City          n  No Deposit        \n",
       "119388    Transient               n    City          n  No Deposit        \n",
       "119389    Transient               n    City          n  No Deposit        \n",
       "\n",
       "        MarketSegment DistributionChannel  AssignedRoomType ReservationStatus  \n",
       "0              Direct              Direct  C                        Check-Out  \n",
       "1              Direct              Direct  C                        Check-Out  \n",
       "2              Direct              Direct  C                        Check-Out  \n",
       "3           Corporate           Corporate  A                        Check-Out  \n",
       "4           Online TA               TA/TO  A                        Check-Out  \n",
       "...               ...                 ...               ...               ...  \n",
       "119385  Offline TA/TO               TA/TO  A                        Check-Out  \n",
       "119386      Online TA               TA/TO  E                        Check-Out  \n",
       "119387      Online TA               TA/TO  D                        Check-Out  \n",
       "119388      Online TA               TA/TO  A                        Check-Out  \n",
       "119389      Online TA               TA/TO  A                        Check-Out  \n",
       "\n",
       "[119390 rows x 14 columns]"
      ]
     },
     "execution_count": 4,
     "metadata": {},
     "output_type": "execute_result"
    }
   ],
   "source": [
    "# Show only the object (categorical variable) columns\n",
    "resort_and_city_hotel.select_dtypes('object')"
   ]
  },
  {
   "cell_type": "markdown",
   "id": "3f6febc0",
   "metadata": {},
   "source": [
    "Okay. Good. We have 14 categorical variables to explore."
   ]
  },
  {
   "cell_type": "markdown",
   "id": "78a1b10f",
   "metadata": {},
   "source": [
    "Let's start by getting a count of the number of unique values in each of the categorical variables."
   ]
  },
  {
   "cell_type": "code",
   "execution_count": 5,
   "id": "63b71a0d",
   "metadata": {},
   "outputs": [
    {
     "data": {
      "text/plain": [
       "Meal                     5\n",
       "ReservedRoomType        10\n",
       "Country                177\n",
       "Agent                  334\n",
       "Company                353\n",
       "CustomerType             4\n",
       "IsRepeatedGuest          2\n",
       "Hotel                    2\n",
       "IsCanceled               2\n",
       "DepositType              3\n",
       "MarketSegment            8\n",
       "DistributionChannel      5\n",
       "AssignedRoomType        12\n",
       "ReservationStatus        3\n",
       "dtype: int64"
      ]
     },
     "execution_count": 5,
     "metadata": {},
     "output_type": "execute_result"
    }
   ],
   "source": [
    "# How many unique values \n",
    "# are there in each \n",
    "# categorical variable?\n",
    "resort_and_city_hotel.select_dtypes('object').nunique()"
   ]
  },
  {
   "cell_type": "markdown",
   "id": "514a9e04",
   "metadata": {},
   "source": [
    "Anything in particular jump out at you? Write down any questions this information generates for you.\n",
    "\n",
    "For me, it seems interesting that there are 10 different *reserved* room types but 12 different *assigned* room types. I'm going to write that down as a question: \"Why are there 10 reserved room types versus 12 assigned room types?\" That might be something worth exploring later. \n",
    "\n",
    "The other thing that stands out to me here is that 177 countries are represented in the data. That's the majority of countries on earth. First question that comes to mind for me is, \"Which countries are represented in the data?\" That's something we'll answer fairly soon.\n",
    "\n",
    "Okay, so now we know *how many* unique values are in each variable (see why they're called **vari**ables?). One logical follow-on question might be, \"*What are* the unique values in each variable?\"\n",
    "\n",
    "Let's answer that for each variable and see what else we might uncover.\n",
    "\n",
    "We'll start with meals."
   ]
  },
  {
   "cell_type": "code",
   "execution_count": 6,
   "id": "2615df39",
   "metadata": {},
   "outputs": [
    {
     "data": {
      "text/plain": [
       "BB           92310\n",
       "HB           14463\n",
       "SC           10650\n",
       "Undefined     1169\n",
       "FB             798\n",
       "Name: Meal, dtype: int64"
      ]
     },
     "execution_count": 6,
     "metadata": {},
     "output_type": "execute_result"
    }
   ],
   "source": [
    "# What are the unique values\n",
    "# in the Meal variable\n",
    "# and how many are there of each?\n",
    "resort_and_city_hotel['Meal'].value_counts()"
   ]
  },
  {
   "cell_type": "markdown",
   "id": "9480d21e",
   "metadata": {},
   "source": [
    "What's the first thing you notice about the meals? For me, the first thing I notice is that 1169 of them are undefined. \n",
    "\n",
    "Let's see if we can figure out what that means. Is it an error that we need fix? Not sure yet. \n",
    "\n",
    "The <a href=\"https://www.sciencedirect.com/science/article/pii/S2352340918315191#t00051\" target=\"_blank\">Variables description table in the ScienceDirect article</a> tells us that:\n",
    "* Undefined/SC = no meal package\n",
    "* BB = Bed & Breakfast;\n",
    "* HB = Half board (breakfast and one other meal – usually dinner)\n",
    "* FB = Full board (breakfast, lunch and dinner)\n",
    "\n",
    "Okay. To me this means Undefined and SC are equivalent; namely, the customer did not select a meal package. I don't think this is an error in the data, per se, but it is something I'd like to fix before I go any further. I want all Undefined and SCs to be the same value because they mean the same thing. To me, neither \"Undefined\" nor \"SC\" aligns with the other abbreviations. For example, BB standing for Bed & Breakfast makes sense. So does HB for Half Board and FB for Full Board. So, let's change all of the Undefined and SC values to NM for No Meal.\n",
    "\n",
    "Before we do that, let's get the total count of Undefined and SC values so we know how many NMs we should end up with."
   ]
  },
  {
   "cell_type": "code",
   "execution_count": 7,
   "id": "f87b4e88",
   "metadata": {},
   "outputs": [
    {
     "data": {
      "text/plain": [
       "11819"
      ]
     },
     "execution_count": 7,
     "metadata": {},
     "output_type": "execute_result"
    }
   ],
   "source": [
    "# Add the number of SC entries\n",
    "# in the Meal column\n",
    "# to the number of Undefined entries\n",
    "# in the Meal column\n",
    "# and display the answer\n",
    "resort_and_city_hotel['Meal'].value_counts()[2] \\\n",
    "    + resort_and_city_hotel['Meal'].value_counts()[3]"
   ]
  },
  {
   "cell_type": "markdown",
   "id": "1b6295d4",
   "metadata": {},
   "source": [
    "Alright. So, if we do this correctly, we should end up with 11,819 NM entries in the Meal column.\n",
    "\n",
    "Let's try that."
   ]
  },
  {
   "cell_type": "code",
   "execution_count": 8,
   "id": "d12896f7",
   "metadata": {},
   "outputs": [],
   "source": [
    "# In the Meal column\n",
    "# of the resort_and_city_hotel dataframe\n",
    "# change every Undefined and every SC \n",
    "# to NM \n",
    "resort_and_city_hotel.loc[resort_and_city_hotel['Meal'] == \\\n",
    "                          'Undefined', 'Meal'] = 'NM'\n",
    "resort_and_city_hotel.loc[resort_and_city_hotel['Meal'] == \\\n",
    "                          'SC', 'Meal'] = 'NM'"
   ]
  },
  {
   "cell_type": "markdown",
   "id": "262a8d77",
   "metadata": {},
   "source": [
    "Check our work . . ."
   ]
  },
  {
   "cell_type": "code",
   "execution_count": 9,
   "id": "11116d86",
   "metadata": {},
   "outputs": [
    {
     "data": {
      "text/plain": [
       "BB           92310\n",
       "HB           14463\n",
       "SC           10650\n",
       "NM            1169\n",
       "FB             798\n",
       "Name: Meal, dtype: int64"
      ]
     },
     "execution_count": 9,
     "metadata": {},
     "output_type": "execute_result"
    }
   ],
   "source": [
    "resort_and_city_hotel['Meal'].value_counts()"
   ]
  },
  {
   "cell_type": "markdown",
   "id": "697c0181",
   "metadata": {},
   "source": [
    "Hmm . . . something's wrong. The Undefined values changed to NM but the SC values did not.\n",
    "\n",
    "I'm not 100% sure why, but if I had to guess, I'd guess there's trailing white space in the column values (there was probably extra white space in the original CSV files). For example, instead of SC being just \"SC\" it's \"SC&nbsp;&nbsp;&nbsp;&nbsp;&nbsp;&nbsp;&nbsp;&nbsp;\" (with some amount of white space after it).\n",
    "\n",
    "Total guess on my part, but it's possible. It can't hurt to remove all leading and trailing white space from every value in the Meal column (just in case that's what the issue is). \n",
    "\n",
    "Let's do that."
   ]
  },
  {
   "cell_type": "code",
   "execution_count": 10,
   "id": "dcfaadbe",
   "metadata": {},
   "outputs": [],
   "source": [
    "# Remove all leading and trailing\n",
    "# white space from the Meal column\n",
    "resort_and_city_hotel['Meal'] = \\\n",
    "    resort_and_city_hotel['Meal'].str.strip()"
   ]
  },
  {
   "cell_type": "markdown",
   "id": "53d5e992",
   "metadata": {},
   "source": [
    "To see if that worked, let's try changing all of the SCs to NMs again."
   ]
  },
  {
   "cell_type": "code",
   "execution_count": 11,
   "id": "4acaf6be",
   "metadata": {},
   "outputs": [],
   "source": [
    "resort_and_city_hotel.loc[resort_and_city_hotel['Meal'] == \\\n",
    "                          'SC', 'Meal'] = 'NM'"
   ]
  },
  {
   "cell_type": "markdown",
   "id": "b19d4793",
   "metadata": {},
   "source": [
    "Now let's check the value counts in the Meal column again . . ."
   ]
  },
  {
   "cell_type": "code",
   "execution_count": 12,
   "id": "fb3dab5d",
   "metadata": {},
   "outputs": [
    {
     "data": {
      "text/plain": [
       "BB    92310\n",
       "HB    14463\n",
       "NM    11819\n",
       "FB      798\n",
       "Name: Meal, dtype: int64"
      ]
     },
     "execution_count": 12,
     "metadata": {},
     "output_type": "execute_result"
    }
   ],
   "source": [
    "resort_and_city_hotel['Meal'].value_counts()"
   ]
  },
  {
   "cell_type": "markdown",
   "id": "d79ccbaf",
   "metadata": {},
   "source": [
    "Ah, great! That worked! If we come across a similar issue when analyzing another column, we can use the same type of fix to strip any leading or trailing white space.\n",
    "\n",
    "Obviously, most of the guests who made reservations chose the Bed and Breakfast meal package.\n",
    "\n",
    "What if, instead of the count of each unique value, we wanted to know what percentage of all the reservations each unique value is?"
   ]
  },
  {
   "cell_type": "code",
   "execution_count": 13,
   "id": "241309fb",
   "metadata": {},
   "outputs": [
    {
     "data": {
      "text/plain": [
       "BB    0.773180\n",
       "HB    0.121141\n",
       "NM    0.098995\n",
       "FB    0.006684\n",
       "Name: Meal, dtype: float64"
      ]
     },
     "execution_count": 13,
     "metadata": {},
     "output_type": "execute_result"
    }
   ],
   "source": [
    "# What percentage of the total\n",
    "# is each unique value\n",
    "# in the Meal column?\n",
    "resort_and_city_hotel['Meal'] \\\n",
    "    .value_counts(normalize=True)"
   ]
  },
  {
   "cell_type": "markdown",
   "id": "6c67fc8b",
   "metadata": {},
   "source": [
    "Approximately 77.3% of customers chose the BB meal package, while just under 10% chose no meal package at all.\n",
    "\n",
    "So this tells us the value counts for *every* reservation at both the resort hotel and the city hotel. What if we want to see the value counts broken out by hotel?\n",
    "\n",
    "Let's see what that might look like."
   ]
  },
  {
   "cell_type": "code",
   "execution_count": 14,
   "id": "489819c4",
   "metadata": {},
   "outputs": [
    {
     "data": {
      "text/plain": [
       "Hotel   Meal\n",
       "City    BB      62305\n",
       "        NM      10564\n",
       "        HB       6417\n",
       "        FB         44\n",
       "Resort  BB      30005\n",
       "        HB       8046\n",
       "        NM       1255\n",
       "        FB        754\n",
       "Name: Meal, dtype: int64"
      ]
     },
     "execution_count": 14,
     "metadata": {},
     "output_type": "execute_result"
    }
   ],
   "source": [
    "# How many of each meal package\n",
    "# did customers book\n",
    "# when they made reservations at\n",
    "# the resort hotel and \n",
    "# at the city hotel, respectively?\n",
    "resort_and_city_hotel.groupby(['Hotel'])['Meal'] \\\n",
    "    .value_counts()"
   ]
  },
  {
   "cell_type": "markdown",
   "id": "3cf52754",
   "metadata": {},
   "source": [
    "And if we wanted to read these as percentages . . ."
   ]
  },
  {
   "cell_type": "code",
   "execution_count": 15,
   "id": "6f16c4ea",
   "metadata": {},
   "outputs": [
    {
     "data": {
      "text/plain": [
       "Hotel   Meal\n",
       "City    BB      0.785390\n",
       "        NM      0.133165\n",
       "        HB      0.080890\n",
       "        FB      0.000555\n",
       "Resort  BB      0.749001\n",
       "        HB      0.200849\n",
       "        NM      0.031328\n",
       "        FB      0.018822\n",
       "Name: Meal, dtype: float64"
      ]
     },
     "execution_count": 15,
     "metadata": {},
     "output_type": "execute_result"
    }
   ],
   "source": [
    "# What is the percentage \n",
    "# of each meal package\n",
    "# customers booked\n",
    "# when they made reservations at\n",
    "# the resort hotel and \n",
    "# at the city hotel?\n",
    "resort_and_city_hotel.groupby(['Hotel'])['Meal'] \\\n",
    "    .value_counts(normalize=True)"
   ]
  },
  {
   "cell_type": "markdown",
   "id": "167c5bd8",
   "metadata": {},
   "source": [
    "This is interesting. Here again are the percentages for the entire dataset (resort and city hotel combined)."
   ]
  },
  {
   "cell_type": "code",
   "execution_count": 16,
   "id": "f4dac6ea",
   "metadata": {},
   "outputs": [
    {
     "data": {
      "text/plain": [
       "BB    0.773180\n",
       "HB    0.121141\n",
       "NM    0.098995\n",
       "FB    0.006684\n",
       "Name: Meal, dtype: float64"
      ]
     },
     "execution_count": 16,
     "metadata": {},
     "output_type": "execute_result"
    }
   ],
   "source": [
    "# What percentage of the total\n",
    "# is each unique value\n",
    "# in the Meal column?\n",
    "resort_and_city_hotel['Meal'].value_counts(normalize=True)"
   ]
  },
  {
   "cell_type": "markdown",
   "id": "556c69cb",
   "metadata": {},
   "source": [
    "When we compare these to the percentages by hotel type, we can see some similarities and differences.\n",
    "\n",
    "For example, the individual hotel requests for the Bed and Breakfast (BB) package are fairly close to the percentage for the combined total:\n",
    "* Combined: 77.3%\n",
    "* City hotel: 78.5%\n",
    "* Resort hotel: 74.9%\n",
    "\n",
    "So, whether we looked at the combined resort and city hotel data or the individual hotel data, approximately three quarters of customers selected the BB meal package. \n",
    "\n",
    "The combined data tells us that about 9% of customers did not choose a meal package (NM). But the individual hotel data tells a different story. At the city hotel, 13.3% of customers did not choose a meal package while only 3.1% of customers did not choose a meal package at the resort hotel.\n",
    "\n",
    "This raises some questions for me:\n",
    "* Why do nearly 4 times as many customers at the city hotel opt out of a meal package when compared to the resort hotel?\n",
    "* How are meal packages marketed to customers at each hotel?\n",
    "* What kinds of food are in the meal packages at each hotel? \n",
    "* What would the revenue impact be if we could decrease the 13.3% of customers **not** choosing a meal package at the city hotel to match the 3.1% of customers **not** choosing a meal package at the resort hotel? \n",
    "    * Putting a positive spin on that question: Regardless of meal package, what would the revenue impact be if we could **increase** the approximately 86.7% of customers who choose a meal package at the city hotel to match the 96.9% of customers who choose a meal package at the resort hotel?\n",
    "\n",
    "Here's something else that caught my attention.\n",
    "\n",
    "Look at the data for the Full Board (FB) meal package.\n",
    "\n",
    "* Combined: 0.6%\n",
    "* City hotel: 0.06%\n",
    "* Resort hotel: 1.9%\n",
    "\n",
    "In other words, customers at the resort hotel book the FB package approximately 32 times more often than customers at the city hotel. \n",
    "\n",
    "What questions come to mind for you when you look at the meal data?\n",
    "\n",
    "It's important to remember that even though we can come up with these questions simply based on our analysis of the data (it's always good to write down any questions the data generates), it really depends on the business, its mission, and goals as to whether these are questions worth pursuing further. For example, just looking at this data, we have no idea what the costs and margins are on the various meal packages, we don't know how many rooms there are in each hotel, etc. So, always capture questions you have. Then, if and when appropriate, share those questions with the person who has decision authority over the domain represented by the data (in this case, maybe a hotel manager or regional manager). \n",
    "\n",
    "Okay. Let's have a look at the categorical variables again."
   ]
  },
  {
   "cell_type": "code",
   "execution_count": 17,
   "id": "5c63ac99",
   "metadata": {},
   "outputs": [
    {
     "name": "stdout",
     "output_type": "stream",
     "text": [
      "<class 'pandas.core.frame.DataFrame'>\n",
      "RangeIndex: 119390 entries, 0 to 119389\n",
      "Data columns (total 14 columns):\n",
      " #   Column               Non-Null Count   Dtype \n",
      "---  ------               --------------   ----- \n",
      " 0   Meal                 119390 non-null  object\n",
      " 1   ReservedRoomType     119390 non-null  object\n",
      " 2   Country              118902 non-null  object\n",
      " 3   Agent                119390 non-null  object\n",
      " 4   Company              119390 non-null  object\n",
      " 5   CustomerType         119390 non-null  object\n",
      " 6   IsRepeatedGuest      119390 non-null  object\n",
      " 7   Hotel                119390 non-null  object\n",
      " 8   IsCanceled           119390 non-null  object\n",
      " 9   DepositType          119390 non-null  object\n",
      " 10  MarketSegment        119390 non-null  object\n",
      " 11  DistributionChannel  119390 non-null  object\n",
      " 12  AssignedRoomType     119390 non-null  object\n",
      " 13  ReservationStatus    119390 non-null  object\n",
      "dtypes: object(14)\n",
      "memory usage: 12.8+ MB\n"
     ]
    }
   ],
   "source": [
    "# Show the info for\n",
    "# the object (categorical variable) columns\n",
    "resort_and_city_hotel.select_dtypes('object').info()"
   ]
  },
  {
   "cell_type": "markdown",
   "id": "61c1f687",
   "metadata": {},
   "source": [
    "Alright. We looked at the Meal variable. Let's look at the ReservedRoomType variable next.\n",
    "\n",
    "Now, you might already be thinking about comparing the ReservedRoomType variable to the AssignedRoomType variable. That's definitely something that we should do, but that would be working with *two* variables at the same time.\n",
    "\n",
    "But we're not doing that right now. Right now, we're just exploring each variable on its own.\n",
    "\n",
    "That being said, if you think of any questions about how you want to compare the ReservedRoomType and AssignedRoomType variables, write them down so you can come back to them later.\n",
    "\n",
    "For example, I'm already wondering:\n",
    "* How many reservations are there where the ReservedRoomType matches the AssignedRoomType?\n",
    "    * What is the ratio of these reservations to all reservations?\n",
    "    * What are the ratios of these reservations for each hotel (resort or city)?\n",
    "* How many reservations are there where the ReservedRoomType does not match the AssignedRoomType?\n",
    "    * What is the ratio of these reservations to all reservations?\n",
    "    * What are the ratios of these reservations for each hotel (resort or city)? \n",
    "* What do the room types represent?\n",
    "    * Is there a logical order or progression from one to the next? \n",
    "        * For example, is a \"B\" room an upgrade from an \"A\" room, a \"C\" room an upgrade from a \"B\" room, and so on?\n",
    "    * Do the room types have the same meaning at each hotel?\n",
    "        * For example, does an \"A\" room at the Resort hotel have the same level of amenities as an \"A\" room at the City hotel? \n",
    "\n",
    "Back to the data now.\n",
    "\n",
    "Let's look at the ReservedRoomType and AssignedRoomType variables individually.\n",
    "\n",
    "We used numerical summaries above. This time, let's use visualizations. Specifically bar charts."
   ]
  },
  {
   "cell_type": "code",
   "execution_count": 18,
   "id": "db2cdda0",
   "metadata": {},
   "outputs": [
    {
     "data": {
      "text/plain": [
       "<AxesSubplot:xlabel='Hotel,ReservedRoomType'>"
      ]
     },
     "execution_count": 18,
     "metadata": {},
     "output_type": "execute_result"
    },
    {
     "data": {
      "image/png": "[encoded data removed]",
      "text/plain": [
       "<Figure size 432x288 with 1 Axes>"
      ]
     },
     "metadata": {
      "needs_background": "light"
     },
     "output_type": "display_data"
    }
   ],
   "source": [
    "# Display a bar chart\n",
    "# that shows each ReservedRoomType \n",
    "# as a percentage of the\n",
    "# total number of reservations,\n",
    "# and group the room types \n",
    "# by hotel\n",
    "resort_and_city_hotel.groupby(['Hotel'])['ReservedRoomType'] \\\n",
    "    .value_counts(normalize=True) \\\n",
    "    .plot(kind=\"bar\")"
   ]
  },
  {
   "cell_type": "markdown",
   "id": "471d0827",
   "metadata": {},
   "source": [
    "Wait a minute. I'm not even looking at the data yet. See all that white space in the x axis labels? That looks like the same problem we had when we were looking at the Meal value counts.\n",
    "\n",
    "Let's see if this happens for the AssignedRoomType variable."
   ]
  },
  {
   "cell_type": "code",
   "execution_count": 19,
   "id": "e388d046",
   "metadata": {},
   "outputs": [
    {
     "data": {
      "text/plain": [
       "<AxesSubplot:xlabel='Hotel,AssignedRoomType'>"
      ]
     },
     "execution_count": 19,
     "metadata": {},
     "output_type": "execute_result"
    },
    {
     "data": {
      "image/png": "[encoded data removed]",
      "text/plain": [
       "<Figure size 432x288 with 1 Axes>"
      ]
     },
     "metadata": {
      "needs_background": "light"
     },
     "output_type": "display_data"
    }
   ],
   "source": [
    "# Display a bar chart\n",
    "# that shows each AssignedRoomType \n",
    "# as a percentage of the\n",
    "# total number of reservations,\n",
    "# and group the room types \n",
    "# by hotel\n",
    "resort_and_city_hotel.groupby(['Hotel'])['AssignedRoomType'] \\\n",
    "    .value_counts(normalize=True) \\\n",
    "    .plot(kind=\"bar\")"
   ]
  },
  {
   "cell_type": "markdown",
   "id": "70a0e49b",
   "metadata": {},
   "source": [
    "The white space is there, too. So let's strip all leading and trailing white space from every string in every column in the dataframe. "
   ]
  },
  {
   "cell_type": "code",
   "execution_count": 20,
   "id": "333750d8",
   "metadata": {},
   "outputs": [],
   "source": [
    "# Strip all leading and trailing \n",
    "# white space from every string \n",
    "# in every column in the dataframe\n",
    "resort_and_city_hotel = \\\n",
    "    resort_and_city_hotel.applymap(lambda x: x.strip() if type(x)==str else x)"
   ]
  },
  {
   "cell_type": "markdown",
   "id": "d5fb3d07",
   "metadata": {},
   "source": [
    "Now let's go back and look at the ReservedRoomType bar chart again."
   ]
  },
  {
   "cell_type": "code",
   "execution_count": 21,
   "id": "4ae0f101",
   "metadata": {},
   "outputs": [
    {
     "data": {
      "text/plain": [
       "<AxesSubplot:xlabel='Hotel,ReservedRoomType'>"
      ]
     },
     "execution_count": 21,
     "metadata": {},
     "output_type": "execute_result"
    },
    {
     "data": {
      "image/png": "[encoded data removed]",
      "text/plain": [
       "<Figure size 432x288 with 1 Axes>"
      ]
     },
     "metadata": {
      "needs_background": "light"
     },
     "output_type": "display_data"
    }
   ],
   "source": [
    "resort_and_city_hotel.groupby(['Hotel'])['ReservedRoomType'] \\\n",
    "    .value_counts(normalize=True) \\\n",
    "    .plot(kind=\"bar\")"
   ]
  },
  {
   "cell_type": "markdown",
   "id": "97a35bb3",
   "metadata": {},
   "source": [
    "And the AssignedRoomType bar chart . . ."
   ]
  },
  {
   "cell_type": "code",
   "execution_count": 22,
   "id": "18f2a781",
   "metadata": {},
   "outputs": [
    {
     "data": {
      "text/plain": [
       "<AxesSubplot:xlabel='Hotel,AssignedRoomType'>"
      ]
     },
     "execution_count": 22,
     "metadata": {},
     "output_type": "execute_result"
    },
    {
     "data": {
      "image/png": "[encoded data removed]",
      "text/plain": [
       "<Figure size 432x288 with 1 Axes>"
      ]
     },
     "metadata": {
      "needs_background": "light"
     },
     "output_type": "display_data"
    }
   ],
   "source": [
    "resort_and_city_hotel.groupby(['Hotel'])['AssignedRoomType'] \\\n",
    "    .value_counts(normalize=True) \\\n",
    "    .plot(kind=\"bar\")"
   ]
  },
  {
   "cell_type": "markdown",
   "id": "431776a0",
   "metadata": {},
   "source": [
    "All right. That's better. The extra white space is gone. \n",
    "\n",
    "Right now, I'm using these bar charts strictly as a way for me to explore the data, so I'm not concerned with refining and editing them. For example, if I were going to present a chart like this to a decision maker, I'd\n",
    "* Change the chart title to \"Assigned Room Types\" and put it at the top of the chart\n",
    "* Label the y axis \"Percentage of All Reservations\"\n",
    "* Change the y axis to actual percentages (e.g. \"80%\" instead of \"0.8\") \n",
    "* Remove the parentheses from the x axis labels\n",
    "* Change the orientation of the x axis labels to horizontal\n",
    "* Remove the multiple instances of \"City,\" and \"Resort,\" and center the text \"City\" and the text \"Resort\" under their respective sides of the chart\n",
    "* Change the color of one of the hotel's bars to visually differentiate both sides of the chart\n",
    "\n",
    "Okay. Back to the data.\n",
    "\n",
    "It's pretty obvious from looking at these two charts that most guests reserve and receive A-rooms, no matter which hotel they stay in.\n",
    "\n",
    "But there's a definite difference between the two charts. For example, we can see that approximately 60% of guests at the Resort hotel *reserve* an A-room, but only a little more than 40% of them are *assigned* an A-room. \n",
    "\n",
    "There are a lot of things these charts *don't* tell us. For example, if we just look at A-rooms in the Resort hotel, well, wait a minute. Let's look at these two charts as counts of the total reservations rather than ratios of the total reservations . . . then I'll say what I was going to say.\n",
    "\n",
    "Here's the ReservedRoomType counts."
   ]
  },
  {
   "cell_type": "code",
   "execution_count": 23,
   "id": "d6b793c8",
   "metadata": {},
   "outputs": [
    {
     "data": {
      "text/plain": [
       "<AxesSubplot:xlabel='Hotel,ReservedRoomType'>"
      ]
     },
     "execution_count": 23,
     "metadata": {},
     "output_type": "execute_result"
    },
    {
     "data": {
      "image/png": "[encoded data removed]",
      "text/plain": [
       "<Figure size 432x288 with 1 Axes>"
      ]
     },
     "metadata": {
      "needs_background": "light"
     },
     "output_type": "display_data"
    }
   ],
   "source": [
    "# Display a bar chart\n",
    "# that shows the count \n",
    "# of each ReservedRoomType,\n",
    "# and group the room types \n",
    "# by hotel\n",
    "resort_and_city_hotel.groupby(['Hotel'])['ReservedRoomType'] \\\n",
    "    .value_counts() \\\n",
    "    .plot(kind=\"bar\")"
   ]
  },
  {
   "cell_type": "markdown",
   "id": "1ea0ac4a",
   "metadata": {},
   "source": [
    "And the AssignedRoomType counts . . ."
   ]
  },
  {
   "cell_type": "code",
   "execution_count": 24,
   "id": "cbaccc81",
   "metadata": {},
   "outputs": [
    {
     "data": {
      "text/plain": [
       "<AxesSubplot:xlabel='Hotel,AssignedRoomType'>"
      ]
     },
     "execution_count": 24,
     "metadata": {},
     "output_type": "execute_result"
    },
    {
     "data": {
      "image/png": "[encoded data removed]",
      "text/plain": [
       "<Figure size 432x288 with 1 Axes>"
      ]
     },
     "metadata": {
      "needs_background": "light"
     },
     "output_type": "display_data"
    }
   ],
   "source": [
    "# Display a bar chart\n",
    "# that shows the count \n",
    "# of each AssignedRoomType,\n",
    "# and group the room types \n",
    "# by hotel\n",
    "resort_and_city_hotel.groupby(['Hotel'])['AssignedRoomType'] \\\n",
    "    .value_counts() \\\n",
    "    .plot(kind=\"bar\")"
   ]
  },
  {
   "cell_type": "markdown",
   "id": "3ca704db",
   "metadata": {},
   "source": [
    "Looking only at the A-rooms for the Resort hotel, we can see that approximately 25,000 customers *reserved* A-rooms, but only about 19,000 or so customers were *assigned* A-rooms. Well, let's get the exact counts."
   ]
  },
  {
   "cell_type": "code",
   "execution_count": 25,
   "id": "dfd25905",
   "metadata": {},
   "outputs": [
    {
     "data": {
      "text/plain": [
       "Hotel   ReservedRoomType\n",
       "City    A                   62595\n",
       "        D                   11768\n",
       "        F                    1791\n",
       "        E                    1553\n",
       "        B                    1115\n",
       "        G                     484\n",
       "        C                      14\n",
       "        P                      10\n",
       "Resort  A                   23399\n",
       "        D                    7433\n",
       "        E                    4982\n",
       "        G                    1610\n",
       "        F                    1106\n",
       "        C                     918\n",
       "        H                     601\n",
       "        L                       6\n",
       "        B                       3\n",
       "        P                       2\n",
       "Name: ReservedRoomType, dtype: int64"
      ]
     },
     "execution_count": 25,
     "metadata": {},
     "output_type": "execute_result"
    }
   ],
   "source": [
    "# How many of each room type \n",
    "# did customers book\n",
    "# when they made reservations at\n",
    "# the resort hotel and \n",
    "# at the city hotel?\n",
    "resort_and_city_hotel.groupby(['Hotel'])['ReservedRoomType'] \\\n",
    "    .value_counts()"
   ]
  },
  {
   "cell_type": "code",
   "execution_count": 26,
   "id": "023d2b09",
   "metadata": {},
   "outputs": [
    {
     "data": {
      "text/plain": [
       "Hotel   AssignedRoomType\n",
       "City    A                   57007\n",
       "        D                   14983\n",
       "        E                    2168\n",
       "        F                    2018\n",
       "        B                    2004\n",
       "        G                     700\n",
       "        K                     279\n",
       "        C                     161\n",
       "        P                      10\n",
       "Resort  A                   17046\n",
       "        D                   10339\n",
       "        E                    5638\n",
       "        C                    2214\n",
       "        G                    1853\n",
       "        F                    1733\n",
       "        H                     712\n",
       "        I                     363\n",
       "        B                     159\n",
       "        P                       2\n",
       "        L                       1\n",
       "Name: AssignedRoomType, dtype: int64"
      ]
     },
     "execution_count": 26,
     "metadata": {},
     "output_type": "execute_result"
    }
   ],
   "source": [
    "# How many of each room type \n",
    "# did customers book\n",
    "# when they were assigned rooms at\n",
    "# the resort hotel and \n",
    "# at the city hotel?\n",
    "resort_and_city_hotel.groupby(['Hotel'])['AssignedRoomType'] \\\n",
    "    .value_counts()"
   ]
  },
  {
   "cell_type": "markdown",
   "id": "e5284c52",
   "metadata": {},
   "source": [
    "I wasn't too far off: 23,399 reserved A-rooms at the Resort hotel and 17,046 were *assigned* A-rooms. But we have no idea from this view of the data whether any of the 17,046 customers who were *assigned* A-rooms *reserved* A-rooms. Maybe none of the 23,399 *reserved A-room* customers are in the group of 17,046 *assigned A-room* customers. Of course, I highly doubt that. My point is, we can't access that level of insight from this particular view of the data (namely, views of individual variables). This is one example of why looking at individual variables is a good way to *start* exploring a dataset. Imagine if we did no further analysis and assumed that the 17,046 customers *assigned* A-rooms also *reserved* A-rooms. And then we made a decision based on this limited view of the data.\n",
    "\n",
    "Again, though (and this cannot be stressed enough): write down any questions you have about the data. You can always try to figure out ways to get those questions answered.\n",
    "\n",
    "Alright, let's look at the Country variable.\n",
    "\n",
    "Here's a count of reservations by country for the combined resort and city hotel data."
   ]
  },
  {
   "cell_type": "code",
   "execution_count": 27,
   "id": "c84d22bc",
   "metadata": {},
   "outputs": [
    {
     "data": {
      "text/plain": [
       "PRT    48590\n",
       "GBR    12129\n",
       "FRA    10415\n",
       "ESP     8568\n",
       "DEU     7287\n",
       "       ...  \n",
       "DJI        1\n",
       "BWA        1\n",
       "HND        1\n",
       "VGB        1\n",
       "NAM        1\n",
       "Name: Country, Length: 177, dtype: int64"
      ]
     },
     "execution_count": 27,
     "metadata": {},
     "output_type": "execute_result"
    }
   ],
   "source": [
    "resort_and_city_hotel['Country'].value_counts()"
   ]
  },
  {
   "cell_type": "markdown",
   "id": "2b471a7e",
   "metadata": {},
   "source": [
    "Okay, clearly the vast majority of reservations originate from customers in Portugal. And what if we looked at this as percentages?"
   ]
  },
  {
   "cell_type": "code",
   "execution_count": 28,
   "id": "02a3dd7c",
   "metadata": {},
   "outputs": [
    {
     "data": {
      "text/plain": [
       "PRT    0.408656\n",
       "GBR    0.102008\n",
       "FRA    0.087593\n",
       "ESP    0.072059\n",
       "DEU    0.061286\n",
       "ITA    0.031673\n",
       "IRL    0.028385\n",
       "BEL    0.019697\n",
       "BRA    0.018704\n",
       "NLD    0.017695\n",
       "USA    0.017636\n",
       "CHE    0.014550\n",
       "CN     0.010757\n",
       "AUT    0.010622\n",
       "SWE    0.008612\n",
       "CHN    0.008402\n",
       "POL    0.007729\n",
       "ISR    0.005626\n",
       "RUS    0.005315\n",
       "NOR    0.005105\n",
       "Name: Country, dtype: float64"
      ]
     },
     "execution_count": 28,
     "metadata": {},
     "output_type": "execute_result"
    }
   ],
   "source": [
    "resort_and_city_hotel['Country'].value_counts(normalize=True).head(20)"
   ]
  },
  {
   "cell_type": "markdown",
   "id": "4316d7ce",
   "metadata": {},
   "source": [
    "So 40% of reservations originate from Portugal and about 50% of reservations originate from Portugal *and* the United Kingdom. Put another way, about 50% of reservations originate from only 2 countries while the remaining 50% of reservations come from a mix of 175 other countries.\n",
    "\n",
    "I wonder how many countries have a reservation count of 1."
   ]
  },
  {
   "cell_type": "code",
   "execution_count": 29,
   "id": "bcebd07f",
   "metadata": {},
   "outputs": [
    {
     "data": {
      "text/plain": [
       "30"
      ]
     },
     "execution_count": 29,
     "metadata": {},
     "output_type": "execute_result"
    }
   ],
   "source": [
    "# How many countries\n",
    "# have a reservation count\n",
    "# equal to 1?\n",
    "sum(resort_and_city_hotel['Country'].value_counts() == 1)"
   ]
  },
  {
   "cell_type": "markdown",
   "id": "f923974c",
   "metadata": {},
   "source": [
    "A reservation count of at least 1000?"
   ]
  },
  {
   "cell_type": "code",
   "execution_count": 30,
   "id": "234e2d07",
   "metadata": {},
   "outputs": [
    {
     "data": {
      "text/plain": [
       "15"
      ]
     },
     "execution_count": 30,
     "metadata": {},
     "output_type": "execute_result"
    }
   ],
   "source": [
    "# How many countries\n",
    "# have a reservation count\n",
    "# of at least 1000?\n",
    "sum(resort_and_city_hotel['Country'].value_counts() >= 1000)"
   ]
  },
  {
   "cell_type": "markdown",
   "id": "7e300346",
   "metadata": {},
   "source": [
    "A reservation count greater than or equal to 50 and less than or equal to 1000?"
   ]
  },
  {
   "cell_type": "code",
   "execution_count": 31,
   "id": "5631298c",
   "metadata": {},
   "outputs": [
    {
     "data": {
      "text/plain": [
       "42"
      ]
     },
     "execution_count": 31,
     "metadata": {},
     "output_type": "execute_result"
    }
   ],
   "source": [
    "# How many countries\n",
    "# have a reservation count\n",
    "# greater than or equal to 50\n",
    "# and less than or equal to 1000?\n",
    "sum(resort_and_city_hotel['Country'].value_counts().between(50,1000))"
   ]
  },
  {
   "cell_type": "markdown",
   "id": "bbf05613",
   "metadata": {},
   "source": [
    "Okay. Let's move on. The next categorical variable we'll explore is Agent.\n",
    "\n",
    "According to the <a href=\"https://www.sciencedirect.com/science/article/pii/S2352340918315191#t0005\" target=\"_blank\">Variables description table in the ScienceDirect article</a>, the number in this column is the \"ID of the travel agency that made the booking.\" \n",
    "\n",
    "So the numbers in the column are not numbers we want to sum or do any math on; they are numbers used to anonymize the names of companies. \n",
    "\n",
    "Let's check the datatypes again."
   ]
  },
  {
   "cell_type": "code",
   "execution_count": 32,
   "id": "78fcf76a",
   "metadata": {},
   "outputs": [
    {
     "name": "stdout",
     "output_type": "stream",
     "text": [
      "<class 'pandas.core.frame.DataFrame'>\n",
      "RangeIndex: 119390 entries, 0 to 119389\n",
      "Data columns (total 14 columns):\n",
      " #   Column               Non-Null Count   Dtype \n",
      "---  ------               --------------   ----- \n",
      " 0   Meal                 119390 non-null  object\n",
      " 1   ReservedRoomType     119390 non-null  object\n",
      " 2   Country              118902 non-null  object\n",
      " 3   Agent                119390 non-null  object\n",
      " 4   Company              119390 non-null  object\n",
      " 5   CustomerType         119390 non-null  object\n",
      " 6   IsRepeatedGuest      119390 non-null  object\n",
      " 7   Hotel                119390 non-null  object\n",
      " 8   IsCanceled           119390 non-null  object\n",
      " 9   DepositType          119390 non-null  object\n",
      " 10  MarketSegment        119390 non-null  object\n",
      " 11  DistributionChannel  119390 non-null  object\n",
      " 12  AssignedRoomType     119390 non-null  object\n",
      " 13  ReservationStatus    119390 non-null  object\n",
      "dtypes: object(14)\n",
      "memory usage: 12.8+ MB\n"
     ]
    }
   ],
   "source": [
    "# Show the info for\n",
    "# the object (categorical variable) columns\n",
    "resort_and_city_hotel.select_dtypes('object').info()"
   ]
  },
  {
   "cell_type": "markdown",
   "id": "7d30fff1",
   "metadata": {},
   "source": [
    "Okay. Good. That's what I thought. The Agent column is the correct datatype (object) even though it has numbers. And we have zero non-null values in the . . . wait a minute. \n",
    "\n",
    "I didn't notice this earlier.\n",
    "\n",
    "We have zero non-null values in the Agent column, but look at the Country column! Only 118,902 of the rows are non-null. This means there are approximately 500 reservations with no country associated with them. Let's fix that before we do anything with the Agent data.\n",
    "\n",
    "Let's look at the rows that have a null value in the Country column."
   ]
  },
  {
   "cell_type": "code",
   "execution_count": 33,
   "id": "3b5b0491",
   "metadata": {},
   "outputs": [
    {
     "data": {
      "text/html": [
       "<div>\n",
       "<style scoped>\n",
       "    .dataframe tbody tr th:only-of-type {\n",
       "        vertical-align: middle;\n",
       "    }\n",
       "\n",
       "    .dataframe tbody tr th {\n",
       "        vertical-align: top;\n",
       "    }\n",
       "\n",
       "    .dataframe thead th {\n",
       "        text-align: right;\n",
       "    }\n",
       "</style>\n",
       "<table border=\"1\" class=\"dataframe\">\n",
       "  <thead>\n",
       "    <tr style=\"text-align: right;\">\n",
       "      <th></th>\n",
       "      <th>Adults</th>\n",
       "      <th>Children</th>\n",
       "      <th>Babies</th>\n",
       "      <th>Meal</th>\n",
       "      <th>ReservedRoomType</th>\n",
       "      <th>RequiredCarParkingSpaces</th>\n",
       "      <th>Country</th>\n",
       "      <th>ArrivalDate</th>\n",
       "      <th>Agent</th>\n",
       "      <th>Company</th>\n",
       "      <th>...</th>\n",
       "      <th>DaysInWaitingList</th>\n",
       "      <th>TotalOfSpecialRequests</th>\n",
       "      <th>DepositType</th>\n",
       "      <th>MarketSegment</th>\n",
       "      <th>DistributionChannel</th>\n",
       "      <th>AssignedRoomType</th>\n",
       "      <th>ADR</th>\n",
       "      <th>LeadTime</th>\n",
       "      <th>ReservationStatus</th>\n",
       "      <th>ReservationStatusDate</th>\n",
       "    </tr>\n",
       "  </thead>\n",
       "  <tbody>\n",
       "    <tr>\n",
       "      <th>30</th>\n",
       "      <td>1</td>\n",
       "      <td>0</td>\n",
       "      <td>0</td>\n",
       "      <td>BB</td>\n",
       "      <td>A</td>\n",
       "      <td>0</td>\n",
       "      <td>NaN</td>\n",
       "      <td>2015-07-01</td>\n",
       "      <td>NULL</td>\n",
       "      <td>NULL</td>\n",
       "      <td>...</td>\n",
       "      <td>0</td>\n",
       "      <td>2</td>\n",
       "      <td>No Deposit</td>\n",
       "      <td>Direct</td>\n",
       "      <td>Direct</td>\n",
       "      <td>A</td>\n",
       "      <td>62.0</td>\n",
       "      <td>118</td>\n",
       "      <td>Check-Out</td>\n",
       "      <td>2015-07-15</td>\n",
       "    </tr>\n",
       "    <tr>\n",
       "      <th>4127</th>\n",
       "      <td>0</td>\n",
       "      <td>0</td>\n",
       "      <td>0</td>\n",
       "      <td>NM</td>\n",
       "      <td>P</td>\n",
       "      <td>0</td>\n",
       "      <td>NaN</td>\n",
       "      <td>2016-02-15</td>\n",
       "      <td>NULL</td>\n",
       "      <td>383</td>\n",
       "      <td>...</td>\n",
       "      <td>0</td>\n",
       "      <td>0</td>\n",
       "      <td>No Deposit</td>\n",
       "      <td>Offline TA/TO</td>\n",
       "      <td>TA/TO</td>\n",
       "      <td>P</td>\n",
       "      <td>0.0</td>\n",
       "      <td>0</td>\n",
       "      <td>Canceled</td>\n",
       "      <td>2016-02-15</td>\n",
       "    </tr>\n",
       "    <tr>\n",
       "      <th>7092</th>\n",
       "      <td>1</td>\n",
       "      <td>0</td>\n",
       "      <td>0</td>\n",
       "      <td>BB</td>\n",
       "      <td>A</td>\n",
       "      <td>0</td>\n",
       "      <td>NaN</td>\n",
       "      <td>2016-07-21</td>\n",
       "      <td>NULL</td>\n",
       "      <td>204</td>\n",
       "      <td>...</td>\n",
       "      <td>0</td>\n",
       "      <td>2</td>\n",
       "      <td>No Deposit</td>\n",
       "      <td>Corporate</td>\n",
       "      <td>Corporate</td>\n",
       "      <td>A</td>\n",
       "      <td>73.0</td>\n",
       "      <td>8</td>\n",
       "      <td>Canceled</td>\n",
       "      <td>2016-07-20</td>\n",
       "    </tr>\n",
       "    <tr>\n",
       "      <th>7860</th>\n",
       "      <td>2</td>\n",
       "      <td>0</td>\n",
       "      <td>0</td>\n",
       "      <td>HB</td>\n",
       "      <td>A</td>\n",
       "      <td>0</td>\n",
       "      <td>NaN</td>\n",
       "      <td>2016-08-30</td>\n",
       "      <td>NULL</td>\n",
       "      <td>NULL</td>\n",
       "      <td>...</td>\n",
       "      <td>0</td>\n",
       "      <td>5</td>\n",
       "      <td>No Deposit</td>\n",
       "      <td>Direct</td>\n",
       "      <td>Direct</td>\n",
       "      <td>A</td>\n",
       "      <td>159.0</td>\n",
       "      <td>39</td>\n",
       "      <td>Canceled</td>\n",
       "      <td>2016-07-22</td>\n",
       "    </tr>\n",
       "    <tr>\n",
       "      <th>8779</th>\n",
       "      <td>1</td>\n",
       "      <td>0</td>\n",
       "      <td>0</td>\n",
       "      <td>BB</td>\n",
       "      <td>A</td>\n",
       "      <td>0</td>\n",
       "      <td>NaN</td>\n",
       "      <td>2016-10-13</td>\n",
       "      <td>NULL</td>\n",
       "      <td>457</td>\n",
       "      <td>...</td>\n",
       "      <td>0</td>\n",
       "      <td>0</td>\n",
       "      <td>No Deposit</td>\n",
       "      <td>Corporate</td>\n",
       "      <td>Corporate</td>\n",
       "      <td>A</td>\n",
       "      <td>50.0</td>\n",
       "      <td>0</td>\n",
       "      <td>Canceled</td>\n",
       "      <td>2016-10-13</td>\n",
       "    </tr>\n",
       "    <tr>\n",
       "      <th>...</th>\n",
       "      <td>...</td>\n",
       "      <td>...</td>\n",
       "      <td>...</td>\n",
       "      <td>...</td>\n",
       "      <td>...</td>\n",
       "      <td>...</td>\n",
       "      <td>...</td>\n",
       "      <td>...</td>\n",
       "      <td>...</td>\n",
       "      <td>...</td>\n",
       "      <td>...</td>\n",
       "      <td>...</td>\n",
       "      <td>...</td>\n",
       "      <td>...</td>\n",
       "      <td>...</td>\n",
       "      <td>...</td>\n",
       "      <td>...</td>\n",
       "      <td>...</td>\n",
       "      <td>...</td>\n",
       "      <td>...</td>\n",
       "      <td>...</td>\n",
       "    </tr>\n",
       "    <tr>\n",
       "      <th>65908</th>\n",
       "      <td>0</td>\n",
       "      <td>0</td>\n",
       "      <td>0</td>\n",
       "      <td>NM</td>\n",
       "      <td>P</td>\n",
       "      <td>0</td>\n",
       "      <td>NaN</td>\n",
       "      <td>2017-04-10</td>\n",
       "      <td>NULL</td>\n",
       "      <td>279</td>\n",
       "      <td>...</td>\n",
       "      <td>0</td>\n",
       "      <td>0</td>\n",
       "      <td>No Deposit</td>\n",
       "      <td>Complementary</td>\n",
       "      <td>Corporate</td>\n",
       "      <td>P</td>\n",
       "      <td>0.0</td>\n",
       "      <td>0</td>\n",
       "      <td>Canceled</td>\n",
       "      <td>2017-04-10</td>\n",
       "    </tr>\n",
       "    <tr>\n",
       "      <th>65909</th>\n",
       "      <td>0</td>\n",
       "      <td>0</td>\n",
       "      <td>0</td>\n",
       "      <td>NM</td>\n",
       "      <td>P</td>\n",
       "      <td>0</td>\n",
       "      <td>NaN</td>\n",
       "      <td>2017-04-10</td>\n",
       "      <td>NULL</td>\n",
       "      <td>279</td>\n",
       "      <td>...</td>\n",
       "      <td>0</td>\n",
       "      <td>0</td>\n",
       "      <td>No Deposit</td>\n",
       "      <td>Complementary</td>\n",
       "      <td>Corporate</td>\n",
       "      <td>P</td>\n",
       "      <td>0.0</td>\n",
       "      <td>0</td>\n",
       "      <td>Canceled</td>\n",
       "      <td>2017-04-10</td>\n",
       "    </tr>\n",
       "    <tr>\n",
       "      <th>65910</th>\n",
       "      <td>0</td>\n",
       "      <td>0</td>\n",
       "      <td>0</td>\n",
       "      <td>NM</td>\n",
       "      <td>P</td>\n",
       "      <td>0</td>\n",
       "      <td>NaN</td>\n",
       "      <td>2017-04-10</td>\n",
       "      <td>NULL</td>\n",
       "      <td>279</td>\n",
       "      <td>...</td>\n",
       "      <td>0</td>\n",
       "      <td>0</td>\n",
       "      <td>No Deposit</td>\n",
       "      <td>Complementary</td>\n",
       "      <td>Corporate</td>\n",
       "      <td>P</td>\n",
       "      <td>0.0</td>\n",
       "      <td>0</td>\n",
       "      <td>Canceled</td>\n",
       "      <td>2017-04-10</td>\n",
       "    </tr>\n",
       "    <tr>\n",
       "      <th>80830</th>\n",
       "      <td>1</td>\n",
       "      <td>0</td>\n",
       "      <td>0</td>\n",
       "      <td>BB</td>\n",
       "      <td>A</td>\n",
       "      <td>0</td>\n",
       "      <td>NaN</td>\n",
       "      <td>2015-11-23</td>\n",
       "      <td>37</td>\n",
       "      <td>NULL</td>\n",
       "      <td>...</td>\n",
       "      <td>0</td>\n",
       "      <td>0</td>\n",
       "      <td>No Deposit</td>\n",
       "      <td>Groups</td>\n",
       "      <td>TA/TO</td>\n",
       "      <td>A</td>\n",
       "      <td>70.0</td>\n",
       "      <td>4</td>\n",
       "      <td>Check-Out</td>\n",
       "      <td>2015-11-26</td>\n",
       "    </tr>\n",
       "    <tr>\n",
       "      <th>101488</th>\n",
       "      <td>2</td>\n",
       "      <td>0</td>\n",
       "      <td>0</td>\n",
       "      <td>BB</td>\n",
       "      <td>A</td>\n",
       "      <td>0</td>\n",
       "      <td>NaN</td>\n",
       "      <td>2016-11-13</td>\n",
       "      <td>14</td>\n",
       "      <td>NULL</td>\n",
       "      <td>...</td>\n",
       "      <td>0</td>\n",
       "      <td>1</td>\n",
       "      <td>No Deposit</td>\n",
       "      <td>Direct</td>\n",
       "      <td>Direct</td>\n",
       "      <td>A</td>\n",
       "      <td>105.0</td>\n",
       "      <td>1</td>\n",
       "      <td>Check-Out</td>\n",
       "      <td>2016-11-17</td>\n",
       "    </tr>\n",
       "  </tbody>\n",
       "</table>\n",
       "<p>488 rows × 27 columns</p>\n",
       "</div>"
      ],
      "text/plain": [
       "        Adults  Children  Babies Meal ReservedRoomType  \\\n",
       "30           1         0       0   BB                A   \n",
       "4127         0         0       0   NM                P   \n",
       "7092         1         0       0   BB                A   \n",
       "7860         2         0       0   HB                A   \n",
       "8779         1         0       0   BB                A   \n",
       "...        ...       ...     ...  ...              ...   \n",
       "65908        0         0       0   NM                P   \n",
       "65909        0         0       0   NM                P   \n",
       "65910        0         0       0   NM                P   \n",
       "80830        1         0       0   BB                A   \n",
       "101488       2         0       0   BB                A   \n",
       "\n",
       "        RequiredCarParkingSpaces Country ArrivalDate Agent Company  ...  \\\n",
       "30                             0     NaN  2015-07-01  NULL    NULL  ...   \n",
       "4127                           0     NaN  2016-02-15  NULL     383  ...   \n",
       "7092                           0     NaN  2016-07-21  NULL     204  ...   \n",
       "7860                           0     NaN  2016-08-30  NULL    NULL  ...   \n",
       "8779                           0     NaN  2016-10-13  NULL     457  ...   \n",
       "...                          ...     ...         ...   ...     ...  ...   \n",
       "65908                          0     NaN  2017-04-10  NULL     279  ...   \n",
       "65909                          0     NaN  2017-04-10  NULL     279  ...   \n",
       "65910                          0     NaN  2017-04-10  NULL     279  ...   \n",
       "80830                          0     NaN  2015-11-23    37    NULL  ...   \n",
       "101488                         0     NaN  2016-11-13    14    NULL  ...   \n",
       "\n",
       "       DaysInWaitingList TotalOfSpecialRequests  DepositType  MarketSegment  \\\n",
       "30                     0                      2   No Deposit         Direct   \n",
       "4127                   0                      0   No Deposit  Offline TA/TO   \n",
       "7092                   0                      2   No Deposit      Corporate   \n",
       "7860                   0                      5   No Deposit         Direct   \n",
       "8779                   0                      0   No Deposit      Corporate   \n",
       "...                  ...                    ...          ...            ...   \n",
       "65908                  0                      0   No Deposit  Complementary   \n",
       "65909                  0                      0   No Deposit  Complementary   \n",
       "65910                  0                      0   No Deposit  Complementary   \n",
       "80830                  0                      0   No Deposit         Groups   \n",
       "101488                 0                      1   No Deposit         Direct   \n",
       "\n",
       "       DistributionChannel AssignedRoomType    ADR  LeadTime  \\\n",
       "30                  Direct                A   62.0       118   \n",
       "4127                 TA/TO                P    0.0         0   \n",
       "7092             Corporate                A   73.0         8   \n",
       "7860                Direct                A  159.0        39   \n",
       "8779             Corporate                A   50.0         0   \n",
       "...                    ...              ...    ...       ...   \n",
       "65908            Corporate                P    0.0         0   \n",
       "65909            Corporate                P    0.0         0   \n",
       "65910            Corporate                P    0.0         0   \n",
       "80830                TA/TO                A   70.0         4   \n",
       "101488              Direct                A  105.0         1   \n",
       "\n",
       "        ReservationStatus ReservationStatusDate  \n",
       "30              Check-Out            2015-07-15  \n",
       "4127             Canceled            2016-02-15  \n",
       "7092             Canceled            2016-07-20  \n",
       "7860             Canceled            2016-07-22  \n",
       "8779             Canceled            2016-10-13  \n",
       "...                   ...                   ...  \n",
       "65908            Canceled            2017-04-10  \n",
       "65909            Canceled            2017-04-10  \n",
       "65910            Canceled            2017-04-10  \n",
       "80830           Check-Out            2015-11-26  \n",
       "101488          Check-Out            2016-11-17  \n",
       "\n",
       "[488 rows x 27 columns]"
      ]
     },
     "execution_count": 33,
     "metadata": {},
     "output_type": "execute_result"
    }
   ],
   "source": [
    "# Display all rows\n",
    "# with a null value\n",
    "# in the Country column of\n",
    "# the resort_and_city_hotel dataframe \n",
    "resort_and_city_hotel[resort_and_city_hotel['Country'].isnull()]"
   ]
  },
  {
   "cell_type": "markdown",
   "id": "55180b89",
   "metadata": {},
   "source": [
    "Okay. So we have 488 records with no country.\n",
    "\n",
    "Now, ideally, we'd see if the country data about these records is stored in some other dataset that we can access. For example, maybe the company has point-of-sale data stored in a different dataset and we could access that other dataset, align the records from that dataset with the records from the dataset we're working with, and then update the data in our dataset with the correct country for each record.\n",
    "\n",
    "But we don't have another dataset. We only have this one. So what should we do? Well, 488 out 119,390 records is les than 1% of the total number of records."
   ]
  },
  {
   "cell_type": "code",
   "execution_count": 34,
   "id": "e5e1afd8",
   "metadata": {},
   "outputs": [
    {
     "data": {
      "text/plain": [
       "0.004087444509590418"
      ]
     },
     "execution_count": 34,
     "metadata": {},
     "output_type": "execute_result"
    }
   ],
   "source": [
    "# Divide 488 by 119390\n",
    "488/119390"
   ]
  },
  {
   "cell_type": "markdown",
   "id": "b0b86102",
   "metadata": {},
   "source": [
    "To be honest, I'm inclined to drop these records from the dataset. If something seems off as we dive deeper into the data, we can always restore these records and analyze them specifically. But not right now.\n",
    "\n",
    "Based on what we already learned about the Country data, approximately 40% of these reservations probably came from Portugal, 10% from the UK, 9% from France, and so on. If we were talking about 5% or more of the total number of records (around 6,000 or more records), then it might be worthwhile to assign countries based on these percentages (e.g. assign Portugal to 40% of these records, the UK to 10% of these records, and so on).\n",
    "\n",
    "Rather than do all that work to less than 1% of the records, let's just drop these 488 records from the dataframe. I believe the effect on futher analysis will be negligible."
   ]
  },
  {
   "cell_type": "code",
   "execution_count": 35,
   "id": "dda500d9",
   "metadata": {},
   "outputs": [],
   "source": [
    "# Drop all the rows\n",
    "# in the resort_and_city_hotel dataframe\n",
    "# that have a NaN value\n",
    "# in the Country column\n",
    "resort_and_city_hotel = resort_and_city_hotel.dropna(subset=['Country'])"
   ]
  },
  {
   "cell_type": "markdown",
   "id": "bf3fa29f",
   "metadata": {},
   "source": [
    "Let's look at the dataframe to check our work."
   ]
  },
  {
   "cell_type": "code",
   "execution_count": 36,
   "id": "5f33c9a1",
   "metadata": {},
   "outputs": [
    {
     "data": {
      "text/html": [
       "<div>\n",
       "<style scoped>\n",
       "    .dataframe tbody tr th:only-of-type {\n",
       "        vertical-align: middle;\n",
       "    }\n",
       "\n",
       "    .dataframe tbody tr th {\n",
       "        vertical-align: top;\n",
       "    }\n",
       "\n",
       "    .dataframe thead th {\n",
       "        text-align: right;\n",
       "    }\n",
       "</style>\n",
       "<table border=\"1\" class=\"dataframe\">\n",
       "  <thead>\n",
       "    <tr style=\"text-align: right;\">\n",
       "      <th></th>\n",
       "      <th>Adults</th>\n",
       "      <th>Children</th>\n",
       "      <th>Babies</th>\n",
       "      <th>Meal</th>\n",
       "      <th>ReservedRoomType</th>\n",
       "      <th>RequiredCarParkingSpaces</th>\n",
       "      <th>Country</th>\n",
       "      <th>ArrivalDate</th>\n",
       "      <th>Agent</th>\n",
       "      <th>Company</th>\n",
       "      <th>...</th>\n",
       "      <th>DaysInWaitingList</th>\n",
       "      <th>TotalOfSpecialRequests</th>\n",
       "      <th>DepositType</th>\n",
       "      <th>MarketSegment</th>\n",
       "      <th>DistributionChannel</th>\n",
       "      <th>AssignedRoomType</th>\n",
       "      <th>ADR</th>\n",
       "      <th>LeadTime</th>\n",
       "      <th>ReservationStatus</th>\n",
       "      <th>ReservationStatusDate</th>\n",
       "    </tr>\n",
       "  </thead>\n",
       "  <tbody>\n",
       "    <tr>\n",
       "      <th>0</th>\n",
       "      <td>2</td>\n",
       "      <td>0</td>\n",
       "      <td>0</td>\n",
       "      <td>BB</td>\n",
       "      <td>C</td>\n",
       "      <td>0</td>\n",
       "      <td>PRT</td>\n",
       "      <td>2015-07-01</td>\n",
       "      <td>NULL</td>\n",
       "      <td>NULL</td>\n",
       "      <td>...</td>\n",
       "      <td>0</td>\n",
       "      <td>0</td>\n",
       "      <td>No Deposit</td>\n",
       "      <td>Direct</td>\n",
       "      <td>Direct</td>\n",
       "      <td>C</td>\n",
       "      <td>0.00</td>\n",
       "      <td>342</td>\n",
       "      <td>Check-Out</td>\n",
       "      <td>2015-07-01</td>\n",
       "    </tr>\n",
       "    <tr>\n",
       "      <th>1</th>\n",
       "      <td>2</td>\n",
       "      <td>0</td>\n",
       "      <td>0</td>\n",
       "      <td>BB</td>\n",
       "      <td>C</td>\n",
       "      <td>0</td>\n",
       "      <td>PRT</td>\n",
       "      <td>2015-07-01</td>\n",
       "      <td>NULL</td>\n",
       "      <td>NULL</td>\n",
       "      <td>...</td>\n",
       "      <td>0</td>\n",
       "      <td>0</td>\n",
       "      <td>No Deposit</td>\n",
       "      <td>Direct</td>\n",
       "      <td>Direct</td>\n",
       "      <td>C</td>\n",
       "      <td>0.00</td>\n",
       "      <td>737</td>\n",
       "      <td>Check-Out</td>\n",
       "      <td>2015-07-01</td>\n",
       "    </tr>\n",
       "    <tr>\n",
       "      <th>2</th>\n",
       "      <td>1</td>\n",
       "      <td>0</td>\n",
       "      <td>0</td>\n",
       "      <td>BB</td>\n",
       "      <td>A</td>\n",
       "      <td>0</td>\n",
       "      <td>GBR</td>\n",
       "      <td>2015-07-01</td>\n",
       "      <td>NULL</td>\n",
       "      <td>NULL</td>\n",
       "      <td>...</td>\n",
       "      <td>0</td>\n",
       "      <td>0</td>\n",
       "      <td>No Deposit</td>\n",
       "      <td>Direct</td>\n",
       "      <td>Direct</td>\n",
       "      <td>C</td>\n",
       "      <td>75.00</td>\n",
       "      <td>7</td>\n",
       "      <td>Check-Out</td>\n",
       "      <td>2015-07-02</td>\n",
       "    </tr>\n",
       "    <tr>\n",
       "      <th>3</th>\n",
       "      <td>1</td>\n",
       "      <td>0</td>\n",
       "      <td>0</td>\n",
       "      <td>BB</td>\n",
       "      <td>A</td>\n",
       "      <td>0</td>\n",
       "      <td>GBR</td>\n",
       "      <td>2015-07-01</td>\n",
       "      <td>304</td>\n",
       "      <td>NULL</td>\n",
       "      <td>...</td>\n",
       "      <td>0</td>\n",
       "      <td>0</td>\n",
       "      <td>No Deposit</td>\n",
       "      <td>Corporate</td>\n",
       "      <td>Corporate</td>\n",
       "      <td>A</td>\n",
       "      <td>75.00</td>\n",
       "      <td>13</td>\n",
       "      <td>Check-Out</td>\n",
       "      <td>2015-07-02</td>\n",
       "    </tr>\n",
       "    <tr>\n",
       "      <th>4</th>\n",
       "      <td>2</td>\n",
       "      <td>0</td>\n",
       "      <td>0</td>\n",
       "      <td>BB</td>\n",
       "      <td>A</td>\n",
       "      <td>0</td>\n",
       "      <td>GBR</td>\n",
       "      <td>2015-07-01</td>\n",
       "      <td>240</td>\n",
       "      <td>NULL</td>\n",
       "      <td>...</td>\n",
       "      <td>0</td>\n",
       "      <td>1</td>\n",
       "      <td>No Deposit</td>\n",
       "      <td>Online TA</td>\n",
       "      <td>TA/TO</td>\n",
       "      <td>A</td>\n",
       "      <td>98.00</td>\n",
       "      <td>14</td>\n",
       "      <td>Check-Out</td>\n",
       "      <td>2015-07-03</td>\n",
       "    </tr>\n",
       "    <tr>\n",
       "      <th>...</th>\n",
       "      <td>...</td>\n",
       "      <td>...</td>\n",
       "      <td>...</td>\n",
       "      <td>...</td>\n",
       "      <td>...</td>\n",
       "      <td>...</td>\n",
       "      <td>...</td>\n",
       "      <td>...</td>\n",
       "      <td>...</td>\n",
       "      <td>...</td>\n",
       "      <td>...</td>\n",
       "      <td>...</td>\n",
       "      <td>...</td>\n",
       "      <td>...</td>\n",
       "      <td>...</td>\n",
       "      <td>...</td>\n",
       "      <td>...</td>\n",
       "      <td>...</td>\n",
       "      <td>...</td>\n",
       "      <td>...</td>\n",
       "      <td>...</td>\n",
       "    </tr>\n",
       "    <tr>\n",
       "      <th>119385</th>\n",
       "      <td>2</td>\n",
       "      <td>0</td>\n",
       "      <td>0</td>\n",
       "      <td>BB</td>\n",
       "      <td>A</td>\n",
       "      <td>0</td>\n",
       "      <td>BEL</td>\n",
       "      <td>2017-08-30</td>\n",
       "      <td>394</td>\n",
       "      <td>NULL</td>\n",
       "      <td>...</td>\n",
       "      <td>0</td>\n",
       "      <td>0</td>\n",
       "      <td>No Deposit</td>\n",
       "      <td>Offline TA/TO</td>\n",
       "      <td>TA/TO</td>\n",
       "      <td>A</td>\n",
       "      <td>96.14</td>\n",
       "      <td>23</td>\n",
       "      <td>Check-Out</td>\n",
       "      <td>2017-09-06</td>\n",
       "    </tr>\n",
       "    <tr>\n",
       "      <th>119386</th>\n",
       "      <td>3</td>\n",
       "      <td>0</td>\n",
       "      <td>0</td>\n",
       "      <td>BB</td>\n",
       "      <td>E</td>\n",
       "      <td>0</td>\n",
       "      <td>FRA</td>\n",
       "      <td>2017-08-31</td>\n",
       "      <td>9</td>\n",
       "      <td>NULL</td>\n",
       "      <td>...</td>\n",
       "      <td>0</td>\n",
       "      <td>2</td>\n",
       "      <td>No Deposit</td>\n",
       "      <td>Online TA</td>\n",
       "      <td>TA/TO</td>\n",
       "      <td>E</td>\n",
       "      <td>225.43</td>\n",
       "      <td>102</td>\n",
       "      <td>Check-Out</td>\n",
       "      <td>2017-09-07</td>\n",
       "    </tr>\n",
       "    <tr>\n",
       "      <th>119387</th>\n",
       "      <td>2</td>\n",
       "      <td>0</td>\n",
       "      <td>0</td>\n",
       "      <td>BB</td>\n",
       "      <td>D</td>\n",
       "      <td>0</td>\n",
       "      <td>DEU</td>\n",
       "      <td>2017-08-31</td>\n",
       "      <td>9</td>\n",
       "      <td>NULL</td>\n",
       "      <td>...</td>\n",
       "      <td>0</td>\n",
       "      <td>4</td>\n",
       "      <td>No Deposit</td>\n",
       "      <td>Online TA</td>\n",
       "      <td>TA/TO</td>\n",
       "      <td>D</td>\n",
       "      <td>157.71</td>\n",
       "      <td>34</td>\n",
       "      <td>Check-Out</td>\n",
       "      <td>2017-09-07</td>\n",
       "    </tr>\n",
       "    <tr>\n",
       "      <th>119388</th>\n",
       "      <td>2</td>\n",
       "      <td>0</td>\n",
       "      <td>0</td>\n",
       "      <td>BB</td>\n",
       "      <td>A</td>\n",
       "      <td>0</td>\n",
       "      <td>GBR</td>\n",
       "      <td>2017-08-31</td>\n",
       "      <td>89</td>\n",
       "      <td>NULL</td>\n",
       "      <td>...</td>\n",
       "      <td>0</td>\n",
       "      <td>0</td>\n",
       "      <td>No Deposit</td>\n",
       "      <td>Online TA</td>\n",
       "      <td>TA/TO</td>\n",
       "      <td>A</td>\n",
       "      <td>104.40</td>\n",
       "      <td>109</td>\n",
       "      <td>Check-Out</td>\n",
       "      <td>2017-09-07</td>\n",
       "    </tr>\n",
       "    <tr>\n",
       "      <th>119389</th>\n",
       "      <td>2</td>\n",
       "      <td>0</td>\n",
       "      <td>0</td>\n",
       "      <td>HB</td>\n",
       "      <td>A</td>\n",
       "      <td>0</td>\n",
       "      <td>DEU</td>\n",
       "      <td>2017-08-29</td>\n",
       "      <td>9</td>\n",
       "      <td>NULL</td>\n",
       "      <td>...</td>\n",
       "      <td>0</td>\n",
       "      <td>2</td>\n",
       "      <td>No Deposit</td>\n",
       "      <td>Online TA</td>\n",
       "      <td>TA/TO</td>\n",
       "      <td>A</td>\n",
       "      <td>151.20</td>\n",
       "      <td>205</td>\n",
       "      <td>Check-Out</td>\n",
       "      <td>2017-09-07</td>\n",
       "    </tr>\n",
       "  </tbody>\n",
       "</table>\n",
       "<p>118902 rows × 27 columns</p>\n",
       "</div>"
      ],
      "text/plain": [
       "        Adults  Children  Babies Meal ReservedRoomType  \\\n",
       "0            2         0       0   BB                C   \n",
       "1            2         0       0   BB                C   \n",
       "2            1         0       0   BB                A   \n",
       "3            1         0       0   BB                A   \n",
       "4            2         0       0   BB                A   \n",
       "...        ...       ...     ...  ...              ...   \n",
       "119385       2         0       0   BB                A   \n",
       "119386       3         0       0   BB                E   \n",
       "119387       2         0       0   BB                D   \n",
       "119388       2         0       0   BB                A   \n",
       "119389       2         0       0   HB                A   \n",
       "\n",
       "        RequiredCarParkingSpaces Country ArrivalDate Agent Company  ...  \\\n",
       "0                              0     PRT  2015-07-01  NULL    NULL  ...   \n",
       "1                              0     PRT  2015-07-01  NULL    NULL  ...   \n",
       "2                              0     GBR  2015-07-01  NULL    NULL  ...   \n",
       "3                              0     GBR  2015-07-01   304    NULL  ...   \n",
       "4                              0     GBR  2015-07-01   240    NULL  ...   \n",
       "...                          ...     ...         ...   ...     ...  ...   \n",
       "119385                         0     BEL  2017-08-30   394    NULL  ...   \n",
       "119386                         0     FRA  2017-08-31     9    NULL  ...   \n",
       "119387                         0     DEU  2017-08-31     9    NULL  ...   \n",
       "119388                         0     GBR  2017-08-31    89    NULL  ...   \n",
       "119389                         0     DEU  2017-08-29     9    NULL  ...   \n",
       "\n",
       "       DaysInWaitingList TotalOfSpecialRequests  DepositType  MarketSegment  \\\n",
       "0                      0                      0   No Deposit         Direct   \n",
       "1                      0                      0   No Deposit         Direct   \n",
       "2                      0                      0   No Deposit         Direct   \n",
       "3                      0                      0   No Deposit      Corporate   \n",
       "4                      0                      1   No Deposit      Online TA   \n",
       "...                  ...                    ...          ...            ...   \n",
       "119385                 0                      0   No Deposit  Offline TA/TO   \n",
       "119386                 0                      2   No Deposit      Online TA   \n",
       "119387                 0                      4   No Deposit      Online TA   \n",
       "119388                 0                      0   No Deposit      Online TA   \n",
       "119389                 0                      2   No Deposit      Online TA   \n",
       "\n",
       "       DistributionChannel AssignedRoomType     ADR  LeadTime  \\\n",
       "0                   Direct                C    0.00       342   \n",
       "1                   Direct                C    0.00       737   \n",
       "2                   Direct                C   75.00         7   \n",
       "3                Corporate                A   75.00        13   \n",
       "4                    TA/TO                A   98.00        14   \n",
       "...                    ...              ...     ...       ...   \n",
       "119385               TA/TO                A   96.14        23   \n",
       "119386               TA/TO                E  225.43       102   \n",
       "119387               TA/TO                D  157.71        34   \n",
       "119388               TA/TO                A  104.40       109   \n",
       "119389               TA/TO                A  151.20       205   \n",
       "\n",
       "        ReservationStatus ReservationStatusDate  \n",
       "0               Check-Out            2015-07-01  \n",
       "1               Check-Out            2015-07-01  \n",
       "2               Check-Out            2015-07-02  \n",
       "3               Check-Out            2015-07-02  \n",
       "4               Check-Out            2015-07-03  \n",
       "...                   ...                   ...  \n",
       "119385          Check-Out            2017-09-06  \n",
       "119386          Check-Out            2017-09-07  \n",
       "119387          Check-Out            2017-09-07  \n",
       "119388          Check-Out            2017-09-07  \n",
       "119389          Check-Out            2017-09-07  \n",
       "\n",
       "[118902 rows x 27 columns]"
      ]
     },
     "execution_count": 36,
     "metadata": {},
     "output_type": "execute_result"
    }
   ],
   "source": [
    "resort_and_city_hotel"
   ]
  },
  {
   "cell_type": "markdown",
   "id": "3ba296ef",
   "metadata": {},
   "source": [
    "Okay. Great. We can see that we're down to 118,902 records. But there is a discrepancy between the actual number of records (118,902) and the index of the dataframe, which shows the last record as 119,389. How can that be?\n",
    "\n",
    "It's just a matter of resetting the index. \n",
    "\n",
    "Let's do that."
   ]
  },
  {
   "cell_type": "code",
   "execution_count": 37,
   "id": "50008efc",
   "metadata": {},
   "outputs": [],
   "source": [
    "# Reset the index of the\n",
    "# resort_and_city_hotel dataframe\n",
    "resort_and_city_hotel.reset_index(drop=True,\n",
    "                                  inplace=True)"
   ]
  },
  {
   "cell_type": "markdown",
   "id": "45f5876f",
   "metadata": {},
   "source": [
    "And check our work . . ."
   ]
  },
  {
   "cell_type": "code",
   "execution_count": 38,
   "id": "49841950",
   "metadata": {},
   "outputs": [
    {
     "data": {
      "text/html": [
       "<div>\n",
       "<style scoped>\n",
       "    .dataframe tbody tr th:only-of-type {\n",
       "        vertical-align: middle;\n",
       "    }\n",
       "\n",
       "    .dataframe tbody tr th {\n",
       "        vertical-align: top;\n",
       "    }\n",
       "\n",
       "    .dataframe thead th {\n",
       "        text-align: right;\n",
       "    }\n",
       "</style>\n",
       "<table border=\"1\" class=\"dataframe\">\n",
       "  <thead>\n",
       "    <tr style=\"text-align: right;\">\n",
       "      <th></th>\n",
       "      <th>Adults</th>\n",
       "      <th>Children</th>\n",
       "      <th>Babies</th>\n",
       "      <th>Meal</th>\n",
       "      <th>ReservedRoomType</th>\n",
       "      <th>RequiredCarParkingSpaces</th>\n",
       "      <th>Country</th>\n",
       "      <th>ArrivalDate</th>\n",
       "      <th>Agent</th>\n",
       "      <th>Company</th>\n",
       "      <th>...</th>\n",
       "      <th>DaysInWaitingList</th>\n",
       "      <th>TotalOfSpecialRequests</th>\n",
       "      <th>DepositType</th>\n",
       "      <th>MarketSegment</th>\n",
       "      <th>DistributionChannel</th>\n",
       "      <th>AssignedRoomType</th>\n",
       "      <th>ADR</th>\n",
       "      <th>LeadTime</th>\n",
       "      <th>ReservationStatus</th>\n",
       "      <th>ReservationStatusDate</th>\n",
       "    </tr>\n",
       "  </thead>\n",
       "  <tbody>\n",
       "    <tr>\n",
       "      <th>0</th>\n",
       "      <td>2</td>\n",
       "      <td>0</td>\n",
       "      <td>0</td>\n",
       "      <td>BB</td>\n",
       "      <td>C</td>\n",
       "      <td>0</td>\n",
       "      <td>PRT</td>\n",
       "      <td>2015-07-01</td>\n",
       "      <td>NULL</td>\n",
       "      <td>NULL</td>\n",
       "      <td>...</td>\n",
       "      <td>0</td>\n",
       "      <td>0</td>\n",
       "      <td>No Deposit</td>\n",
       "      <td>Direct</td>\n",
       "      <td>Direct</td>\n",
       "      <td>C</td>\n",
       "      <td>0.00</td>\n",
       "      <td>342</td>\n",
       "      <td>Check-Out</td>\n",
       "      <td>2015-07-01</td>\n",
       "    </tr>\n",
       "    <tr>\n",
       "      <th>1</th>\n",
       "      <td>2</td>\n",
       "      <td>0</td>\n",
       "      <td>0</td>\n",
       "      <td>BB</td>\n",
       "      <td>C</td>\n",
       "      <td>0</td>\n",
       "      <td>PRT</td>\n",
       "      <td>2015-07-01</td>\n",
       "      <td>NULL</td>\n",
       "      <td>NULL</td>\n",
       "      <td>...</td>\n",
       "      <td>0</td>\n",
       "      <td>0</td>\n",
       "      <td>No Deposit</td>\n",
       "      <td>Direct</td>\n",
       "      <td>Direct</td>\n",
       "      <td>C</td>\n",
       "      <td>0.00</td>\n",
       "      <td>737</td>\n",
       "      <td>Check-Out</td>\n",
       "      <td>2015-07-01</td>\n",
       "    </tr>\n",
       "    <tr>\n",
       "      <th>2</th>\n",
       "      <td>1</td>\n",
       "      <td>0</td>\n",
       "      <td>0</td>\n",
       "      <td>BB</td>\n",
       "      <td>A</td>\n",
       "      <td>0</td>\n",
       "      <td>GBR</td>\n",
       "      <td>2015-07-01</td>\n",
       "      <td>NULL</td>\n",
       "      <td>NULL</td>\n",
       "      <td>...</td>\n",
       "      <td>0</td>\n",
       "      <td>0</td>\n",
       "      <td>No Deposit</td>\n",
       "      <td>Direct</td>\n",
       "      <td>Direct</td>\n",
       "      <td>C</td>\n",
       "      <td>75.00</td>\n",
       "      <td>7</td>\n",
       "      <td>Check-Out</td>\n",
       "      <td>2015-07-02</td>\n",
       "    </tr>\n",
       "    <tr>\n",
       "      <th>3</th>\n",
       "      <td>1</td>\n",
       "      <td>0</td>\n",
       "      <td>0</td>\n",
       "      <td>BB</td>\n",
       "      <td>A</td>\n",
       "      <td>0</td>\n",
       "      <td>GBR</td>\n",
       "      <td>2015-07-01</td>\n",
       "      <td>304</td>\n",
       "      <td>NULL</td>\n",
       "      <td>...</td>\n",
       "      <td>0</td>\n",
       "      <td>0</td>\n",
       "      <td>No Deposit</td>\n",
       "      <td>Corporate</td>\n",
       "      <td>Corporate</td>\n",
       "      <td>A</td>\n",
       "      <td>75.00</td>\n",
       "      <td>13</td>\n",
       "      <td>Check-Out</td>\n",
       "      <td>2015-07-02</td>\n",
       "    </tr>\n",
       "    <tr>\n",
       "      <th>4</th>\n",
       "      <td>2</td>\n",
       "      <td>0</td>\n",
       "      <td>0</td>\n",
       "      <td>BB</td>\n",
       "      <td>A</td>\n",
       "      <td>0</td>\n",
       "      <td>GBR</td>\n",
       "      <td>2015-07-01</td>\n",
       "      <td>240</td>\n",
       "      <td>NULL</td>\n",
       "      <td>...</td>\n",
       "      <td>0</td>\n",
       "      <td>1</td>\n",
       "      <td>No Deposit</td>\n",
       "      <td>Online TA</td>\n",
       "      <td>TA/TO</td>\n",
       "      <td>A</td>\n",
       "      <td>98.00</td>\n",
       "      <td>14</td>\n",
       "      <td>Check-Out</td>\n",
       "      <td>2015-07-03</td>\n",
       "    </tr>\n",
       "    <tr>\n",
       "      <th>...</th>\n",
       "      <td>...</td>\n",
       "      <td>...</td>\n",
       "      <td>...</td>\n",
       "      <td>...</td>\n",
       "      <td>...</td>\n",
       "      <td>...</td>\n",
       "      <td>...</td>\n",
       "      <td>...</td>\n",
       "      <td>...</td>\n",
       "      <td>...</td>\n",
       "      <td>...</td>\n",
       "      <td>...</td>\n",
       "      <td>...</td>\n",
       "      <td>...</td>\n",
       "      <td>...</td>\n",
       "      <td>...</td>\n",
       "      <td>...</td>\n",
       "      <td>...</td>\n",
       "      <td>...</td>\n",
       "      <td>...</td>\n",
       "      <td>...</td>\n",
       "    </tr>\n",
       "    <tr>\n",
       "      <th>118897</th>\n",
       "      <td>2</td>\n",
       "      <td>0</td>\n",
       "      <td>0</td>\n",
       "      <td>BB</td>\n",
       "      <td>A</td>\n",
       "      <td>0</td>\n",
       "      <td>BEL</td>\n",
       "      <td>2017-08-30</td>\n",
       "      <td>394</td>\n",
       "      <td>NULL</td>\n",
       "      <td>...</td>\n",
       "      <td>0</td>\n",
       "      <td>0</td>\n",
       "      <td>No Deposit</td>\n",
       "      <td>Offline TA/TO</td>\n",
       "      <td>TA/TO</td>\n",
       "      <td>A</td>\n",
       "      <td>96.14</td>\n",
       "      <td>23</td>\n",
       "      <td>Check-Out</td>\n",
       "      <td>2017-09-06</td>\n",
       "    </tr>\n",
       "    <tr>\n",
       "      <th>118898</th>\n",
       "      <td>3</td>\n",
       "      <td>0</td>\n",
       "      <td>0</td>\n",
       "      <td>BB</td>\n",
       "      <td>E</td>\n",
       "      <td>0</td>\n",
       "      <td>FRA</td>\n",
       "      <td>2017-08-31</td>\n",
       "      <td>9</td>\n",
       "      <td>NULL</td>\n",
       "      <td>...</td>\n",
       "      <td>0</td>\n",
       "      <td>2</td>\n",
       "      <td>No Deposit</td>\n",
       "      <td>Online TA</td>\n",
       "      <td>TA/TO</td>\n",
       "      <td>E</td>\n",
       "      <td>225.43</td>\n",
       "      <td>102</td>\n",
       "      <td>Check-Out</td>\n",
       "      <td>2017-09-07</td>\n",
       "    </tr>\n",
       "    <tr>\n",
       "      <th>118899</th>\n",
       "      <td>2</td>\n",
       "      <td>0</td>\n",
       "      <td>0</td>\n",
       "      <td>BB</td>\n",
       "      <td>D</td>\n",
       "      <td>0</td>\n",
       "      <td>DEU</td>\n",
       "      <td>2017-08-31</td>\n",
       "      <td>9</td>\n",
       "      <td>NULL</td>\n",
       "      <td>...</td>\n",
       "      <td>0</td>\n",
       "      <td>4</td>\n",
       "      <td>No Deposit</td>\n",
       "      <td>Online TA</td>\n",
       "      <td>TA/TO</td>\n",
       "      <td>D</td>\n",
       "      <td>157.71</td>\n",
       "      <td>34</td>\n",
       "      <td>Check-Out</td>\n",
       "      <td>2017-09-07</td>\n",
       "    </tr>\n",
       "    <tr>\n",
       "      <th>118900</th>\n",
       "      <td>2</td>\n",
       "      <td>0</td>\n",
       "      <td>0</td>\n",
       "      <td>BB</td>\n",
       "      <td>A</td>\n",
       "      <td>0</td>\n",
       "      <td>GBR</td>\n",
       "      <td>2017-08-31</td>\n",
       "      <td>89</td>\n",
       "      <td>NULL</td>\n",
       "      <td>...</td>\n",
       "      <td>0</td>\n",
       "      <td>0</td>\n",
       "      <td>No Deposit</td>\n",
       "      <td>Online TA</td>\n",
       "      <td>TA/TO</td>\n",
       "      <td>A</td>\n",
       "      <td>104.40</td>\n",
       "      <td>109</td>\n",
       "      <td>Check-Out</td>\n",
       "      <td>2017-09-07</td>\n",
       "    </tr>\n",
       "    <tr>\n",
       "      <th>118901</th>\n",
       "      <td>2</td>\n",
       "      <td>0</td>\n",
       "      <td>0</td>\n",
       "      <td>HB</td>\n",
       "      <td>A</td>\n",
       "      <td>0</td>\n",
       "      <td>DEU</td>\n",
       "      <td>2017-08-29</td>\n",
       "      <td>9</td>\n",
       "      <td>NULL</td>\n",
       "      <td>...</td>\n",
       "      <td>0</td>\n",
       "      <td>2</td>\n",
       "      <td>No Deposit</td>\n",
       "      <td>Online TA</td>\n",
       "      <td>TA/TO</td>\n",
       "      <td>A</td>\n",
       "      <td>151.20</td>\n",
       "      <td>205</td>\n",
       "      <td>Check-Out</td>\n",
       "      <td>2017-09-07</td>\n",
       "    </tr>\n",
       "  </tbody>\n",
       "</table>\n",
       "<p>118902 rows × 27 columns</p>\n",
       "</div>"
      ],
      "text/plain": [
       "        Adults  Children  Babies Meal ReservedRoomType  \\\n",
       "0            2         0       0   BB                C   \n",
       "1            2         0       0   BB                C   \n",
       "2            1         0       0   BB                A   \n",
       "3            1         0       0   BB                A   \n",
       "4            2         0       0   BB                A   \n",
       "...        ...       ...     ...  ...              ...   \n",
       "118897       2         0       0   BB                A   \n",
       "118898       3         0       0   BB                E   \n",
       "118899       2         0       0   BB                D   \n",
       "118900       2         0       0   BB                A   \n",
       "118901       2         0       0   HB                A   \n",
       "\n",
       "        RequiredCarParkingSpaces Country ArrivalDate Agent Company  ...  \\\n",
       "0                              0     PRT  2015-07-01  NULL    NULL  ...   \n",
       "1                              0     PRT  2015-07-01  NULL    NULL  ...   \n",
       "2                              0     GBR  2015-07-01  NULL    NULL  ...   \n",
       "3                              0     GBR  2015-07-01   304    NULL  ...   \n",
       "4                              0     GBR  2015-07-01   240    NULL  ...   \n",
       "...                          ...     ...         ...   ...     ...  ...   \n",
       "118897                         0     BEL  2017-08-30   394    NULL  ...   \n",
       "118898                         0     FRA  2017-08-31     9    NULL  ...   \n",
       "118899                         0     DEU  2017-08-31     9    NULL  ...   \n",
       "118900                         0     GBR  2017-08-31    89    NULL  ...   \n",
       "118901                         0     DEU  2017-08-29     9    NULL  ...   \n",
       "\n",
       "       DaysInWaitingList TotalOfSpecialRequests  DepositType  MarketSegment  \\\n",
       "0                      0                      0   No Deposit         Direct   \n",
       "1                      0                      0   No Deposit         Direct   \n",
       "2                      0                      0   No Deposit         Direct   \n",
       "3                      0                      0   No Deposit      Corporate   \n",
       "4                      0                      1   No Deposit      Online TA   \n",
       "...                  ...                    ...          ...            ...   \n",
       "118897                 0                      0   No Deposit  Offline TA/TO   \n",
       "118898                 0                      2   No Deposit      Online TA   \n",
       "118899                 0                      4   No Deposit      Online TA   \n",
       "118900                 0                      0   No Deposit      Online TA   \n",
       "118901                 0                      2   No Deposit      Online TA   \n",
       "\n",
       "       DistributionChannel AssignedRoomType     ADR  LeadTime  \\\n",
       "0                   Direct                C    0.00       342   \n",
       "1                   Direct                C    0.00       737   \n",
       "2                   Direct                C   75.00         7   \n",
       "3                Corporate                A   75.00        13   \n",
       "4                    TA/TO                A   98.00        14   \n",
       "...                    ...              ...     ...       ...   \n",
       "118897               TA/TO                A   96.14        23   \n",
       "118898               TA/TO                E  225.43       102   \n",
       "118899               TA/TO                D  157.71        34   \n",
       "118900               TA/TO                A  104.40       109   \n",
       "118901               TA/TO                A  151.20       205   \n",
       "\n",
       "        ReservationStatus ReservationStatusDate  \n",
       "0               Check-Out            2015-07-01  \n",
       "1               Check-Out            2015-07-01  \n",
       "2               Check-Out            2015-07-02  \n",
       "3               Check-Out            2015-07-02  \n",
       "4               Check-Out            2015-07-03  \n",
       "...                   ...                   ...  \n",
       "118897          Check-Out            2017-09-06  \n",
       "118898          Check-Out            2017-09-07  \n",
       "118899          Check-Out            2017-09-07  \n",
       "118900          Check-Out            2017-09-07  \n",
       "118901          Check-Out            2017-09-07  \n",
       "\n",
       "[118902 rows x 27 columns]"
      ]
     },
     "execution_count": 38,
     "metadata": {},
     "output_type": "execute_result"
    }
   ],
   "source": [
    "resort_and_city_hotel"
   ]
  },
  {
   "cell_type": "markdown",
   "id": "2f882c98",
   "metadata": {},
   "source": [
    "Fixed.\n",
    "\n",
    "Okay. Let's check the info again to confirm we have the same number of non-null values in every column with an object datatype."
   ]
  },
  {
   "cell_type": "code",
   "execution_count": 39,
   "id": "f8671761",
   "metadata": {},
   "outputs": [
    {
     "name": "stdout",
     "output_type": "stream",
     "text": [
      "<class 'pandas.core.frame.DataFrame'>\n",
      "RangeIndex: 118902 entries, 0 to 118901\n",
      "Data columns (total 14 columns):\n",
      " #   Column               Non-Null Count   Dtype \n",
      "---  ------               --------------   ----- \n",
      " 0   Meal                 118902 non-null  object\n",
      " 1   ReservedRoomType     118902 non-null  object\n",
      " 2   Country              118902 non-null  object\n",
      " 3   Agent                118902 non-null  object\n",
      " 4   Company              118902 non-null  object\n",
      " 5   CustomerType         118902 non-null  object\n",
      " 6   IsRepeatedGuest      118902 non-null  object\n",
      " 7   Hotel                118902 non-null  object\n",
      " 8   IsCanceled           118902 non-null  object\n",
      " 9   DepositType          118902 non-null  object\n",
      " 10  MarketSegment        118902 non-null  object\n",
      " 11  DistributionChannel  118902 non-null  object\n",
      " 12  AssignedRoomType     118902 non-null  object\n",
      " 13  ReservationStatus    118902 non-null  object\n",
      "dtypes: object(14)\n",
      "memory usage: 12.7+ MB\n"
     ]
    }
   ],
   "source": [
    "# Show the info for\n",
    "# the object (categorical variable) columns\n",
    "resort_and_city_hotel.select_dtypes('object').info()"
   ]
  },
  {
   "cell_type": "markdown",
   "id": "6a53ade8",
   "metadata": {},
   "source": [
    "Great. Let's go back to the Agent column and start asking it some questions.\n",
    "\n",
    "First question that comes to mind for me is how many different agents are there in the dataframe?"
   ]
  },
  {
   "cell_type": "code",
   "execution_count": 40,
   "id": "76289f68",
   "metadata": {},
   "outputs": [
    {
     "data": {
      "text/plain": [
       "333"
      ]
     },
     "execution_count": 40,
     "metadata": {},
     "output_type": "execute_result"
    }
   ],
   "source": [
    "# How many unique values are there\n",
    "# in the Agent column\n",
    "# of the resort_and_city_hotel dataframe?\n",
    "resort_and_city_hotel['Agent'] \\\n",
    "    .nunique()"
   ]
  },
  {
   "cell_type": "markdown",
   "id": "ae334719",
   "metadata": {},
   "source": [
    "Okay. We have 333 different travel agents represented in the dataset.\n",
    "\n",
    "How many records are there for each agent?"
   ]
  },
  {
   "cell_type": "code",
   "execution_count": 41,
   "id": "b5095987",
   "metadata": {},
   "outputs": [
    {
     "data": {
      "text/plain": [
       "9       31960\n",
       "NULL    16006\n",
       "240     13871\n",
       "1        7191\n",
       "14       3639\n",
       "        ...  \n",
       "285         1\n",
       "289         1\n",
       "265         1\n",
       "333         1\n",
       "497         1\n",
       "Name: Agent, Length: 333, dtype: int64"
      ]
     },
     "execution_count": 41,
     "metadata": {},
     "output_type": "execute_result"
    }
   ],
   "source": [
    "# How many records \n",
    "# is each travel agent \n",
    "# associated with?\n",
    "resort_and_city_hotel['Agent'] \\\n",
    "    .value_counts()"
   ]
  },
  {
   "cell_type": "markdown",
   "id": "dc653243",
   "metadata": {},
   "source": [
    "Well, what's the first thing that stands out to you with these value counts?\n",
    "\n",
    "For me, it's that about 16006 records have a NULL value!\n",
    "\n",
    "How is that possible when . . ."
   ]
  },
  {
   "cell_type": "code",
   "execution_count": 42,
   "id": "4c37f06d",
   "metadata": {},
   "outputs": [
    {
     "name": "stdout",
     "output_type": "stream",
     "text": [
      "<class 'pandas.core.frame.DataFrame'>\n",
      "RangeIndex: 118902 entries, 0 to 118901\n",
      "Data columns (total 14 columns):\n",
      " #   Column               Non-Null Count   Dtype \n",
      "---  ------               --------------   ----- \n",
      " 0   Meal                 118902 non-null  object\n",
      " 1   ReservedRoomType     118902 non-null  object\n",
      " 2   Country              118902 non-null  object\n",
      " 3   Agent                118902 non-null  object\n",
      " 4   Company              118902 non-null  object\n",
      " 5   CustomerType         118902 non-null  object\n",
      " 6   IsRepeatedGuest      118902 non-null  object\n",
      " 7   Hotel                118902 non-null  object\n",
      " 8   IsCanceled           118902 non-null  object\n",
      " 9   DepositType          118902 non-null  object\n",
      " 10  MarketSegment        118902 non-null  object\n",
      " 11  DistributionChannel  118902 non-null  object\n",
      " 12  AssignedRoomType     118902 non-null  object\n",
      " 13  ReservationStatus    118902 non-null  object\n",
      "dtypes: object(14)\n",
      "memory usage: 12.7+ MB\n"
     ]
    }
   ],
   "source": [
    "# Show the info for\n",
    "# the object (categorical variable) columns\n",
    "resort_and_city_hotel.select_dtypes('object').info()"
   ]
  },
  {
   "cell_type": "markdown",
   "id": "f4539d2f",
   "metadata": {},
   "source": [
    ". . . literally tells use there are 118,902 **NON-NULL** records in that column?\n",
    "\n",
    "In this case, I'd go back to the source of the data. For us, it's the <a href=\"https://www.sciencedirect.com/science/article/pii/S2352340918315191\" target=\"_blank\">ScienceDirect article</a>.\n",
    "\n",
    "Reading that article, we find the following:\n",
    "\n",
    "\" . . . in some categorical variables like Agent or Company, “NULL” is presented as one of the categories. This should not be considered a missing value, but rather as “not applicable”. For example, if a booking “Agent” is defined as “NULL” it means that the booking did not came from a travel agent.\"\n",
    "\n",
    "Ah, okay. So in this particular case \"NULL\" is being used as a category that means \"this reservation did not come from a travel agent.\"\n",
    "\n",
    "In that case, to keep everything as organized as possible (and to reduce any risk of ambiguity), I'm going to change every NULL to 0 in **both** the Agent column *and* the Country column. \n",
    "\n",
    "Thus, after we make this fix:\n",
    "* a 0 in the Agent column means this reservation *was not* booked by a travel agent\n",
    "* a 0 in the Company column means this reservation *was not* booked by a company"
   ]
  },
  {
   "cell_type": "code",
   "execution_count": 43,
   "id": "ea9aa5f9",
   "metadata": {},
   "outputs": [],
   "source": [
    "# In the resort_and_city_hotel dataframe\n",
    "# change every NULL to a 0\n",
    "# in the Agent and\n",
    "# Country columns\n",
    "resort_and_city_hotel.loc[\n",
    "    resort_and_city_hotel['Agent'] == 'NULL',\n",
    "    'Agent'] = '0'\n",
    "resort_and_city_hotel.loc[\n",
    "    resort_and_city_hotel['Company'] == 'NULL',\n",
    "    'Company'] = '0'"
   ]
  },
  {
   "cell_type": "markdown",
   "id": "9dbd2f88",
   "metadata": {},
   "source": [
    "Let's check our work. If we did this correctly, we should have 16,006 0s in the Agent column."
   ]
  },
  {
   "cell_type": "code",
   "execution_count": 44,
   "id": "ab23fa94",
   "metadata": {},
   "outputs": [
    {
     "data": {
      "text/plain": [
       "9      31960\n",
       "0      16006\n",
       "240    13871\n",
       "1       7191\n",
       "14      3639\n",
       "       ...  \n",
       "285        1\n",
       "289        1\n",
       "265        1\n",
       "333        1\n",
       "497        1\n",
       "Name: Agent, Length: 333, dtype: int64"
      ]
     },
     "execution_count": 44,
     "metadata": {},
     "output_type": "execute_result"
    }
   ],
   "source": [
    "# How many records \n",
    "# is each travel agent \n",
    "# associated with?\n",
    "resort_and_city_hotel['Agent'] \\\n",
    "    .value_counts()"
   ]
  },
  {
   "cell_type": "markdown",
   "id": "e284bfe9",
   "metadata": {},
   "source": [
    " . . . and . . ."
   ]
  },
  {
   "cell_type": "code",
   "execution_count": 45,
   "id": "2cf27312",
   "metadata": {},
   "outputs": [
    {
     "data": {
      "text/plain": [
       "0      112279\n",
       "40        927\n",
       "223       784\n",
       "67        267\n",
       "45        250\n",
       "        ...  \n",
       "10          1\n",
       "100         1\n",
       "96          1\n",
       "76          1\n",
       "376         1\n",
       "Name: Company, Length: 350, dtype: int64"
      ]
     },
     "execution_count": 45,
     "metadata": {},
     "output_type": "execute_result"
    }
   ],
   "source": [
    "# How many records \n",
    "# is each company \n",
    "# associated with?\n",
    "resort_and_city_hotel['Company'] \\\n",
    "    .value_counts()"
   ]
  },
  {
   "cell_type": "markdown",
   "id": "32086835",
   "metadata": {},
   "source": [
    ". . . 112,279 reservations that were *not* booked by a company.\n",
    "\n",
    "Looking at the Agent data again, the first question that comes to mind for me is, \"Wow, travel agent 9 booked over 25% of the reservations in this dataset. Is travel agent 9 an online travel agent (OTA)?\" But answering *that* question would require us to analyze *more than one* variable at a time&#8212;which we'll do in another post because in this post we're only looking at individual variables.\n",
    "\n",
    "And based on the value counts for Company, we can see that the vast majority of bookings did *not* originate from a company&#8212;which means most reservations originated with an individual customer or a travel agent.\n",
    "\n",
    "Okay. Now let's look at the CustomerType variable. How many unique customer types do we have?"
   ]
  },
  {
   "cell_type": "code",
   "execution_count": 46,
   "id": "2595a167",
   "metadata": {},
   "outputs": [
    {
     "data": {
      "text/plain": [
       "4"
      ]
     },
     "execution_count": 46,
     "metadata": {},
     "output_type": "execute_result"
    }
   ],
   "source": [
    "# How many unique values are there\n",
    "# in the CustomerType column\n",
    "# of the resort_and_city_hotel dataframe?\n",
    "resort_and_city_hotel['CustomerType'] \\\n",
    "    .nunique()"
   ]
  },
  {
   "cell_type": "markdown",
   "id": "46daee53",
   "metadata": {},
   "source": [
    "Oh, okay. There are only four unique customer types. What are they and how many of each do we have?"
   ]
  },
  {
   "cell_type": "code",
   "execution_count": 47,
   "id": "48502472",
   "metadata": {},
   "outputs": [
    {
     "data": {
      "text/plain": [
       "Transient          89174\n",
       "Transient-Party    25082\n",
       "Contract            4076\n",
       "Group                570\n",
       "Name: CustomerType, dtype: int64"
      ]
     },
     "execution_count": 47,
     "metadata": {},
     "output_type": "execute_result"
    }
   ],
   "source": [
    "# How many records \n",
    "# is each CustomerType \n",
    "# associated with?\n",
    "resort_and_city_hotel['CustomerType'] \\\n",
    "    .value_counts()"
   ]
  },
  {
   "cell_type": "markdown",
   "id": "d1e00e36",
   "metadata": {},
   "source": [
    "The <a href=\"https://www.sciencedirect.com/science/article/pii/S2352340918315191\" target=\"_blank\">ScienceDirect article</a> defines each of these categories as:\n",
    "* Contract - when the booking has an allotment or other type of contract associated to it;\n",
    "* Group – when the booking is associated to a group;\n",
    "* Transient – when the booking is not part of a group or contract, and is not associated to other transient booking;\n",
    "* Transient-party – when the booking is transient, but is associated to at least other (sic) transient booking\n",
    "\n",
    "I understand these definitions to mean:\n",
    "* If a company (or other entity) has a contract with the hotel, and that company makes a reservation, that reservation is categorized as Contract.\n",
    "* If a group makes a reservation, that reservation is categorized as Group. Group reservations generally mean a group has booked 10 or more rooms. For example, if professional organization XYZ is hosting a conference at one of the hotels, XYZ might reserve 50 rooms for conference attendees to select from.\n",
    "* If an individual who is not part of a group or contract books a reservation, then this reservation is categorized as Transient. I think of this as the typical reservation a person or family makes for themselves. For example, when family books a family vacation at one of the hotels, that reservation is categorized as Transient.\n",
    "* If an individual who is not part of a group or contract books a reservation, then this reservation is categorized as Transient, but if that same booking indicates it is associated with another Transient booking, then both of those bookings are categorized as Transient-Party. I think an example of this might be something like: Wilma and Betty are friends. They decide they'd like their families to vacation together. Wilma books a stay for her family from August 1-5 and indicates in her reservation that her&#8212;Wilma's&#8212;party will be joining another party&#8212;Betty and her family&#8212;at the hotel. Separately, Betty books a stay at the same hotel for her family from August 1-5 and indicates her family will be joining Wilma's family for some well-earned rest and relaxation. Both of these bookings would be Transient-Party because they are each associated with at least one other Transient reservation.\n",
    "\n",
    "Based on the numbers above, it's clear the vast majority of reservations across both hotels comes from Transient bookings.\n",
    "\n",
    "We can view this as percentages."
   ]
  },
  {
   "cell_type": "code",
   "execution_count": 48,
   "id": "e2a95838",
   "metadata": {},
   "outputs": [
    {
     "data": {
      "text/plain": [
       "Transient          0.749979\n",
       "Transient-Party    0.210947\n",
       "Contract           0.034280\n",
       "Group              0.004794\n",
       "Name: CustomerType, dtype: float64"
      ]
     },
     "execution_count": 48,
     "metadata": {},
     "output_type": "execute_result"
    }
   ],
   "source": [
    "# What is the percentage of records \n",
    "# each CustomerType \n",
    "# is associated with?\n",
    "resort_and_city_hotel['CustomerType'] \\\n",
    "    .value_counts(normalize=True)"
   ]
  },
  {
   "cell_type": "markdown",
   "id": "015ba59d",
   "metadata": {},
   "source": [
    "Okay, this gives us an even better view: approximately 75% of reservations are Transient and 21% are Transient-Party. In other words, around 96% of bookings come from some kind of Transient customer.\n",
    "\n",
    "What if we break it down by hotel?"
   ]
  },
  {
   "cell_type": "code",
   "execution_count": 49,
   "id": "6ba10aba",
   "metadata": {},
   "outputs": [
    {
     "data": {
      "text/plain": [
       "Hotel   CustomerType   \n",
       "City    Transient          0.748771\n",
       "        Transient-Party    0.218546\n",
       "        Contract           0.029002\n",
       "        Group              0.003682\n",
       "Resort  Transient          0.752399\n",
       "        Transient-Party    0.195727\n",
       "        Contract           0.044853\n",
       "        Group              0.007021\n",
       "Name: CustomerType, dtype: float64"
      ]
     },
     "execution_count": 49,
     "metadata": {},
     "output_type": "execute_result"
    }
   ],
   "source": [
    "# What is the percentage of records \n",
    "# each CustomerType \n",
    "# is associated with,\n",
    "# grouped by hotel?\n",
    "resort_and_city_hotel.groupby(['Hotel'])['CustomerType'] \\\n",
    "    .value_counts(normalize=True)"
   ]
  },
  {
   "cell_type": "markdown",
   "id": "98254644",
   "metadata": {},
   "source": [
    "Unlike the Meal variable, where the combined data told a slightly different story than the grouped data (see above), the CustomerType data is fairly consistent both at the combined level and when we group the data: right around 95% of reservations at each hotel are Transient and Transient-Party.\n",
    "\n",
    "What questions come to mind for you when you look at this data?\n",
    "\n",
    "For me, the first thing that comes to mind is the Group customer type. Less than 1% of bookings come from groups. Is this a marketing opportunity? Maybe. How are the hotels being marketed to groups that might book multiple rooms at a time for large events? Would be worth capturing this kind of question and then, if it's appropriate to do so, mention it to the marketing folks in the business. \n",
    "\n",
    "Now let's look at the IsRepeatedGuest variable.\n",
    "\n",
    "According to the <a href=\"https://www.sciencedirect.com/science/article/pii/S2352340918315191#t0005\" target=\"_blank\">Variables Description table in the ScienceDirect article</a>, the IsRepeatedGuest variable indicates \". . . if the booking name was from a repeated guest (1) or not (0).\" \n",
    "\n",
    "There's the zeroes and ones again.\n",
    "\n",
    "Buuuuut . . . <a href=\"https://gettoknowdata.com/hotel-bookings-part-2/\" target=\"_blank\">in Part 2</a> we changed this variable from zeroes and ones to ys and ns.\n",
    "\n",
    "So we already know the number of *unique* values in this column: 2.\n",
    "\n",
    "What's the break down for the combined data?"
   ]
  },
  {
   "cell_type": "code",
   "execution_count": 50,
   "id": "2037b1fe",
   "metadata": {},
   "outputs": [
    {
     "data": {
      "text/plain": [
       "n    0.96799\n",
       "y    0.03201\n",
       "Name: IsRepeatedGuest, dtype: float64"
      ]
     },
     "execution_count": 50,
     "metadata": {},
     "output_type": "execute_result"
    }
   ],
   "source": [
    "# What is the percentage \n",
    "# of reservations made by\n",
    "# a repeat guest\n",
    "# for the combined resort and city \n",
    "# hotel data?\n",
    "resort_and_city_hotel['IsRepeatedGuest'] \\\n",
    "    .value_counts(normalize=True)"
   ]
  },
  {
   "cell_type": "markdown",
   "id": "17c48324",
   "metadata": {},
   "source": [
    "So, this brings up another question: why are only 3% of customers repeat customers? What are the risks and rewards of turning the business's attention to increasing this value?\n",
    "\n",
    "What about broken down by hotel?"
   ]
  },
  {
   "cell_type": "code",
   "execution_count": 51,
   "id": "fc25de8e",
   "metadata": {},
   "outputs": [
    {
     "data": {
      "text/plain": [
       "Hotel   IsRepeatedGuest\n",
       "City    n                  0.974378\n",
       "        y                  0.025622\n",
       "Resort  n                  0.955197\n",
       "        y                  0.044803\n",
       "Name: IsRepeatedGuest, dtype: float64"
      ]
     },
     "execution_count": 51,
     "metadata": {},
     "output_type": "execute_result"
    }
   ],
   "source": [
    "# What is the percentage of \n",
    "# repeate customers,\n",
    "# grouped by hotel?\n",
    "resort_and_city_hotel.groupby(['Hotel'])['IsRepeatedGuest'] \\\n",
    "    .value_counts(normalize=True)"
   ]
  },
  {
   "cell_type": "markdown",
   "id": "973e1b12",
   "metadata": {},
   "source": [
    "Here again, the grouped data does reveal a slight difference between the two hotels. The repeat rate at the resort hotel (4.5%) is more than 1.5x the repeat rate of the city hotel. Again: opportunity? Again: maybe. \n",
    "* Does one marketing team do the marketing for both hotels or does each hotel have its own marketing team? \n",
    "* How much money is spent *specifically* on capturing *repeat* customers? \n",
    "* Does one or the other hotel have a loyalty program that rewards repeat customers?\n",
    "\n",
    "And so on.\n",
    "\n",
    "Let's look at the Hotel variable now.\n",
    "\n",
    "Let's use a visualization for this one. Namely, a bar chart that shows the percentage of total reservations for each hotel."
   ]
  },
  {
   "cell_type": "code",
   "execution_count": 52,
   "id": "3ba9fa77",
   "metadata": {},
   "outputs": [
    {
     "data": {
      "text/plain": [
       "<AxesSubplot:>"
      ]
     },
     "execution_count": 52,
     "metadata": {},
     "output_type": "execute_result"
    },
    {
     "data": {
      "image/png": "[encoded data removed]",
      "text/plain": [
       "<Figure size 432x288 with 1 Axes>"
      ]
     },
     "metadata": {
      "needs_background": "light"
     },
     "output_type": "display_data"
    }
   ],
   "source": [
    "# What percentage of \n",
    "# the total number of reservations\n",
    "# came from each hotel?\n",
    "resort_and_city_hotel['Hotel'] \\\n",
    "    .value_counts(normalize=True) \\\n",
    "    .plot(kind=\"bar\")"
   ]
  },
  {
   "cell_type": "markdown",
   "id": "bf1ec14a",
   "metadata": {},
   "source": [
    "So, about 2/3 of the reservations are for the city hotel and 1/3 for the Resort hotel.\n",
    "\n",
    "We can't tell from this data, but maybe the resort hotel contributes more revenue on a per-customer basis. Don't know. Can't know from the data we have, but it might be worth exploring if we ever have the opportunity to integrate revenue data into our analysis. \n",
    "\n",
    "Let's look at the IsCanceled variable."
   ]
  },
  {
   "cell_type": "code",
   "execution_count": 53,
   "id": "50d924f6",
   "metadata": {},
   "outputs": [
    {
     "data": {
      "text/plain": [
       "<AxesSubplot:>"
      ]
     },
     "execution_count": 53,
     "metadata": {},
     "output_type": "execute_result"
    },
    {
     "data": {
      "image/png": "[encoded data removed]",
      "text/plain": [
       "<Figure size 432x288 with 1 Axes>"
      ]
     },
     "metadata": {
      "needs_background": "light"
     },
     "output_type": "display_data"
    }
   ],
   "source": [
    "# What percentage of \n",
    "# the total number of reservations\n",
    "# came from each hotel?\n",
    "resort_and_city_hotel['IsCanceled'] \\\n",
    "    .value_counts(normalize=True) \\\n",
    "    .plot(kind=\"bar\")"
   ]
  },
  {
   "cell_type": "markdown",
   "id": "dd631619",
   "metadata": {},
   "source": [
    "Holy cannoli! Is this true? Are nearly 40% of reservations *canceled*?\n",
    "\n",
    "I need to see this in a different view."
   ]
  },
  {
   "cell_type": "code",
   "execution_count": 54,
   "id": "975eb9b0",
   "metadata": {},
   "outputs": [
    {
     "data": {
      "text/plain": [
       "n    0.628627\n",
       "y    0.371373\n",
       "Name: IsCanceled, dtype: float64"
      ]
     },
     "execution_count": 54,
     "metadata": {},
     "output_type": "execute_result"
    }
   ],
   "source": [
    "# For the entire dataset,\n",
    "# what is the percentage \n",
    "# of reservations \n",
    "# that were canceled?\n",
    "resort_and_city_hotel['IsCanceled'] \\\n",
    "    .value_counts(normalize=True)"
   ]
  },
  {
   "cell_type": "markdown",
   "id": "187767f3",
   "metadata": {},
   "source": [
    "Grouped by hotel?"
   ]
  },
  {
   "cell_type": "code",
   "execution_count": 55,
   "id": "020808c0",
   "metadata": {},
   "outputs": [
    {
     "data": {
      "text/plain": [
       "Hotel   IsCanceled\n",
       "City    n             0.582881\n",
       "        y             0.417119\n",
       "Resort  n             0.720250\n",
       "        y             0.279750\n",
       "Name: IsCanceled, dtype: float64"
      ]
     },
     "execution_count": 55,
     "metadata": {},
     "output_type": "execute_result"
    }
   ],
   "source": [
    "# What is the percentage \n",
    "# of reservations \n",
    "# that were canceled,\n",
    "# grouped by hotel?\n",
    "resort_and_city_hotel.groupby(['Hotel'])['IsCanceled'] \\\n",
    "    .value_counts(normalize=True)"
   ]
  },
  {
   "cell_type": "markdown",
   "id": "6b560252",
   "metadata": {},
   "source": [
    "Well. This is something that should definitely be explored more deeply. Based on the data we have, of all the reservations booked at the city hotel, 42% of them&#8212;*42%!*&#8212;were canceled.\n",
    "\n",
    "If I had to guess, I would guess that this is already on hotel management's radar. This definitely warrants further investigation as we get deeper into the analysis (in upcoming posts). But the first question that comes up for me is: \"What is the industry average for hotel cancelations?\" Maybe we're not too far off from the average? <a href=\"https://www.google.com/search?q=average+hotel+cancelation+rate&rlz=1C1CHBF_enUS780US780&sxsrf=AOaemvI5en2CmtXoZWYBVa60dMpCayaBqA:1636988510218&source=lnt&tbs=qdr:y&sa=X&ved=2ahUKEwis_Zu10Zr0AhWPXM0KHdLPCfEQpwV6BAgBECU&biw=1495&bih=709&dpr=1.71\" target=\"_blank\">One quick internet search</a> reveals that, indeed, maybe we *aren't* too far off from the average, and in fact, maybe the resort hotel is soundly beating the global industry average. But it still begs the question: why and when are customers canceling?\n",
    "\n",
    "Indeed, if <a href=\"http://tmstudies.net/index.php/ectms/article/viewFile/1000/pdf_51\" target=\"_blank\">you read the paper</a> written by the professors who also published the <a href=\"https://www.sciencedirect.com/science/article/pii/S2352340918315191\" target=\"_blank\">ScienceDirect article</a>, you'll see that cancelation rates are in fact predictable (and beyond the scope of what we're trying to do in this particular post). \n",
    "\n",
    "Let's move on to the DepositType variable. How many different deposit types are there?"
   ]
  },
  {
   "cell_type": "code",
   "execution_count": 56,
   "id": "ba7df894",
   "metadata": {},
   "outputs": [
    {
     "data": {
      "text/plain": [
       "3"
      ]
     },
     "execution_count": 56,
     "metadata": {},
     "output_type": "execute_result"
    }
   ],
   "source": [
    "# How many unique values are there\n",
    "# in the DepositType column\n",
    "# of the resort_and_city_hotel dataframe?\n",
    "resort_and_city_hotel['DepositType'] \\\n",
    "    .nunique()"
   ]
  },
  {
   "cell_type": "markdown",
   "id": "11d699b0",
   "metadata": {},
   "source": [
    "Okay. Only three. And what are they and how many of each are there?"
   ]
  },
  {
   "cell_type": "code",
   "execution_count": 57,
   "id": "451ac007",
   "metadata": {},
   "outputs": [
    {
     "data": {
      "text/plain": [
       "No Deposit    104167\n",
       "Non Refund     14573\n",
       "Refundable       162\n",
       "Name: DepositType, dtype: int64"
      ]
     },
     "execution_count": 57,
     "metadata": {},
     "output_type": "execute_result"
    }
   ],
   "source": [
    "# For the entire dataset,\n",
    "# what are the deposit types, and\n",
    "# how many of each deposit type\n",
    "# are there?\n",
    "resort_and_city_hotel['DepositType'] \\\n",
    "    .value_counts()"
   ]
  },
  {
   "cell_type": "markdown",
   "id": "f7be1357",
   "metadata": {},
   "source": [
    "The <a href=\"https://www.sciencedirect.com/science/article/pii/S2352340918315191#t0005\" target=\"_blank\">Variables Description table in the ScienceDirect article</a>, provides us with the following definitions of these categories:\n",
    "* No Deposit – no deposit was made\n",
    "* Non Refund – a deposit was made in the value of the total stay cost\n",
    "* Refundable – a deposit was made with a value under the total cost of stay\n",
    "\n",
    "So, clearly, the vast majority of reservations are made without a deposit.\n",
    "\n",
    "Let's look at the percentages for the combined data . . ."
   ]
  },
  {
   "cell_type": "code",
   "execution_count": 58,
   "id": "db17eb1e",
   "metadata": {},
   "outputs": [
    {
     "data": {
      "text/plain": [
       "No Deposit    0.876074\n",
       "Non Refund    0.122563\n",
       "Refundable    0.001362\n",
       "Name: DepositType, dtype: float64"
      ]
     },
     "execution_count": 58,
     "metadata": {},
     "output_type": "execute_result"
    }
   ],
   "source": [
    "# For the entire dataset,\n",
    "# what is the percentage \n",
    "# of each deposit type?\n",
    "resort_and_city_hotel['DepositType'] \\\n",
    "    .value_counts(normalize=True)"
   ]
  },
  {
   "cell_type": "markdown",
   "id": "b8f662ee",
   "metadata": {},
   "source": [
    " . . . and for each hotel . . .?"
   ]
  },
  {
   "cell_type": "code",
   "execution_count": 59,
   "id": "08a2c09c",
   "metadata": {},
   "outputs": [
    {
     "data": {
      "text/plain": [
       "Hotel   DepositType\n",
       "City    No Deposit     0.837667\n",
       "        Non Refund     0.162081\n",
       "        Refundable     0.000252\n",
       "Resort  No Deposit     0.953000\n",
       "        Non Refund     0.043413\n",
       "        Refundable     0.003586\n",
       "Name: DepositType, dtype: float64"
      ]
     },
     "execution_count": 59,
     "metadata": {},
     "output_type": "execute_result"
    }
   ],
   "source": [
    "# What is the percentage \n",
    "# of each deposit type,\n",
    "# grouped by hotel?\n",
    "resort_and_city_hotel.groupby(['Hotel'])['DepositType'] \\\n",
    "    .value_counts(normalize=True)"
   ]
  },
  {
   "cell_type": "markdown",
   "id": "768a67cc",
   "metadata": {},
   "source": [
    "The city hotel aligns a little more with the percentages for the entire dataset, while the resort hotel has quite a few more \"no deposit\" reservations compared to both the city hotel specifically and the dataset in its entirety. \n",
    "\n",
    "But look at the Refundable category. Around 14x more reservations choose the Refundable option at the Resort hotel than they do at the City hotel. Again: why? Worth exploring later.\n",
    "\n",
    "Now let's look at the MarketSegment variable.\n",
    "\n",
    "How many unique values are in this column?"
   ]
  },
  {
   "cell_type": "code",
   "execution_count": 60,
   "id": "9a366013",
   "metadata": {},
   "outputs": [
    {
     "data": {
      "text/plain": [
       "8"
      ]
     },
     "execution_count": 60,
     "metadata": {},
     "output_type": "execute_result"
    }
   ],
   "source": [
    "# How many unique values are there\n",
    "# in the MarketSegment column\n",
    "# of the resort_and_city_hotel dataframe?\n",
    "resort_and_city_hotel['MarketSegment'] \\\n",
    "    .nunique()"
   ]
  },
  {
   "cell_type": "markdown",
   "id": "7a86a05e",
   "metadata": {},
   "source": [
    "What are the 8 different categories of market segments?"
   ]
  },
  {
   "cell_type": "code",
   "execution_count": 61,
   "id": "b8a417a3",
   "metadata": {},
   "outputs": [
    {
     "data": {
      "text/plain": [
       "Online TA        56403\n",
       "Offline TA/TO    24160\n",
       "Groups           19806\n",
       "Direct           12449\n",
       "Corporate         5111\n",
       "Complementary      734\n",
       "Aviation           237\n",
       "Undefined            2\n",
       "Name: MarketSegment, dtype: int64"
      ]
     },
     "execution_count": 61,
     "metadata": {},
     "output_type": "execute_result"
    }
   ],
   "source": [
    "# For the entire dataset,\n",
    "# how many reservations were made\n",
    "# for each market segment? \n",
    "resort_and_city_hotel['MarketSegment'] \\\n",
    "    .value_counts()"
   ]
  },
  {
   "cell_type": "markdown",
   "id": "b8032743",
   "metadata": {},
   "source": [
    "Two of the reservations have an undefined market segment.\n",
    "\n",
    "Let's see what those records look like."
   ]
  },
  {
   "cell_type": "code",
   "execution_count": 62,
   "id": "c09d14e6",
   "metadata": {},
   "outputs": [
    {
     "data": {
      "text/html": [
       "<div>\n",
       "<style scoped>\n",
       "    .dataframe tbody tr th:only-of-type {\n",
       "        vertical-align: middle;\n",
       "    }\n",
       "\n",
       "    .dataframe tbody tr th {\n",
       "        vertical-align: top;\n",
       "    }\n",
       "\n",
       "    .dataframe thead th {\n",
       "        text-align: right;\n",
       "    }\n",
       "</style>\n",
       "<table border=\"1\" class=\"dataframe\">\n",
       "  <thead>\n",
       "    <tr style=\"text-align: right;\">\n",
       "      <th></th>\n",
       "      <th>Adults</th>\n",
       "      <th>Children</th>\n",
       "      <th>Babies</th>\n",
       "      <th>Meal</th>\n",
       "      <th>ReservedRoomType</th>\n",
       "      <th>RequiredCarParkingSpaces</th>\n",
       "      <th>Country</th>\n",
       "      <th>ArrivalDate</th>\n",
       "      <th>Agent</th>\n",
       "      <th>Company</th>\n",
       "      <th>...</th>\n",
       "      <th>DaysInWaitingList</th>\n",
       "      <th>TotalOfSpecialRequests</th>\n",
       "      <th>DepositType</th>\n",
       "      <th>MarketSegment</th>\n",
       "      <th>DistributionChannel</th>\n",
       "      <th>AssignedRoomType</th>\n",
       "      <th>ADR</th>\n",
       "      <th>LeadTime</th>\n",
       "      <th>ReservationStatus</th>\n",
       "      <th>ReservationStatusDate</th>\n",
       "    </tr>\n",
       "  </thead>\n",
       "  <tbody>\n",
       "    <tr>\n",
       "      <th>40136</th>\n",
       "      <td>2</td>\n",
       "      <td>0</td>\n",
       "      <td>0</td>\n",
       "      <td>BB</td>\n",
       "      <td>B</td>\n",
       "      <td>0</td>\n",
       "      <td>PRT</td>\n",
       "      <td>2015-08-03</td>\n",
       "      <td>0</td>\n",
       "      <td>0</td>\n",
       "      <td>...</td>\n",
       "      <td>0</td>\n",
       "      <td>1</td>\n",
       "      <td>No Deposit</td>\n",
       "      <td>Undefined</td>\n",
       "      <td>Undefined</td>\n",
       "      <td>B</td>\n",
       "      <td>12.0</td>\n",
       "      <td>2</td>\n",
       "      <td>Canceled</td>\n",
       "      <td>2015-08-01</td>\n",
       "    </tr>\n",
       "    <tr>\n",
       "      <th>40215</th>\n",
       "      <td>3</td>\n",
       "      <td>0</td>\n",
       "      <td>0</td>\n",
       "      <td>BB</td>\n",
       "      <td>B</td>\n",
       "      <td>0</td>\n",
       "      <td>PRT</td>\n",
       "      <td>2015-08-05</td>\n",
       "      <td>0</td>\n",
       "      <td>0</td>\n",
       "      <td>...</td>\n",
       "      <td>0</td>\n",
       "      <td>2</td>\n",
       "      <td>No Deposit</td>\n",
       "      <td>Undefined</td>\n",
       "      <td>Undefined</td>\n",
       "      <td>B</td>\n",
       "      <td>18.0</td>\n",
       "      <td>1</td>\n",
       "      <td>Canceled</td>\n",
       "      <td>2015-08-04</td>\n",
       "    </tr>\n",
       "  </tbody>\n",
       "</table>\n",
       "<p>2 rows × 27 columns</p>\n",
       "</div>"
      ],
      "text/plain": [
       "       Adults  Children  Babies Meal ReservedRoomType  \\\n",
       "40136       2         0       0   BB                B   \n",
       "40215       3         0       0   BB                B   \n",
       "\n",
       "       RequiredCarParkingSpaces Country ArrivalDate Agent Company  ...  \\\n",
       "40136                         0     PRT  2015-08-03     0       0  ...   \n",
       "40215                         0     PRT  2015-08-05     0       0  ...   \n",
       "\n",
       "      DaysInWaitingList TotalOfSpecialRequests  DepositType  MarketSegment  \\\n",
       "40136                 0                      1   No Deposit      Undefined   \n",
       "40215                 0                      2   No Deposit      Undefined   \n",
       "\n",
       "      DistributionChannel AssignedRoomType   ADR  LeadTime  ReservationStatus  \\\n",
       "40136           Undefined                B  12.0         2           Canceled   \n",
       "40215           Undefined                B  18.0         1           Canceled   \n",
       "\n",
       "      ReservationStatusDate  \n",
       "40136            2015-08-01  \n",
       "40215            2015-08-04  \n",
       "\n",
       "[2 rows x 27 columns]"
      ]
     },
     "execution_count": 62,
     "metadata": {},
     "output_type": "execute_result"
    }
   ],
   "source": [
    "# Display all of the reservations\n",
    "# that list \"Undefined\"\n",
    "# in the MarketSegment variable\n",
    "resort_and_city_hotel.loc[resort_and_city_hotel['MarketSegment'] == \\\n",
    "                          'Undefined'] "
   ]
  },
  {
   "cell_type": "markdown",
   "id": "e4ab9e76",
   "metadata": {},
   "source": [
    "Okay. Well, both of these reservations were canceled&#8212;which makes me wonder why the ADR is anything greater than 0 for both of these, but that's a question for another day. Maybe it's a cancelation fee? Can't know from this data.\n",
    "\n",
    "Right now, based on what we know about the data so far, namely that the vast majority of reservations come from Online TAs and because these two particular reservations do not indicate they are from a Company, I'm inclined to change the market segment for both of these reservations to Online TA.\n",
    "\n",
    "Let's do that now."
   ]
  },
  {
   "cell_type": "code",
   "execution_count": 63,
   "id": "df989d47",
   "metadata": {},
   "outputs": [],
   "source": [
    "# In the resort_and_city_hotel dataframe\n",
    "# change every Undefined to Online TA\n",
    "# in the MarketSegment column\n",
    "resort_and_city_hotel.loc[\n",
    "    resort_and_city_hotel['MarketSegment'] == 'Undefined',\n",
    "    'MarketSegment'] = 'Online TA'"
   ]
  },
  {
   "cell_type": "markdown",
   "id": "ae032563",
   "metadata": {},
   "source": [
    "Check our work. If we did this correctly, we should see 56,405 Online TA reservations, no undefined market segments, and only 7 market segment categories."
   ]
  },
  {
   "cell_type": "code",
   "execution_count": 64,
   "id": "d3696179",
   "metadata": {},
   "outputs": [
    {
     "data": {
      "text/plain": [
       "Online TA        56405\n",
       "Offline TA/TO    24160\n",
       "Groups           19806\n",
       "Direct           12449\n",
       "Corporate         5111\n",
       "Complementary      734\n",
       "Aviation           237\n",
       "Name: MarketSegment, dtype: int64"
      ]
     },
     "execution_count": 64,
     "metadata": {},
     "output_type": "execute_result"
    }
   ],
   "source": [
    "resort_and_city_hotel['MarketSegment'] \\\n",
    "    .value_counts()"
   ]
  },
  {
   "cell_type": "markdown",
   "id": "ae6cd2b3",
   "metadata": {},
   "source": [
    "Okay. Looking good. Let's do the same thing for the DistributionChannel variable.\n",
    "\n",
    "How many unique values are there in the DistributionChannel variable?"
   ]
  },
  {
   "cell_type": "code",
   "execution_count": 65,
   "id": "8b1791da",
   "metadata": {},
   "outputs": [
    {
     "data": {
      "text/plain": [
       "5"
      ]
     },
     "execution_count": 65,
     "metadata": {},
     "output_type": "execute_result"
    }
   ],
   "source": [
    "# How many unique values are there\n",
    "# in the DistributionChannel column\n",
    "# of the resort_and_city_hotel dataframe?\n",
    "resort_and_city_hotel['DistributionChannel'] \\\n",
    "    .nunique()"
   ]
  },
  {
   "cell_type": "markdown",
   "id": "d8ee10b0",
   "metadata": {},
   "source": [
    "What are those unique values and how many of each are there?"
   ]
  },
  {
   "cell_type": "code",
   "execution_count": 66,
   "id": "be867cdc",
   "metadata": {},
   "outputs": [
    {
     "data": {
      "text/plain": [
       "TA/TO        97730\n",
       "Direct       14483\n",
       "Corporate     6491\n",
       "GDS            193\n",
       "Undefined        5\n",
       "Name: DistributionChannel, dtype: int64"
      ]
     },
     "execution_count": 66,
     "metadata": {},
     "output_type": "execute_result"
    }
   ],
   "source": [
    "resort_and_city_hotel['DistributionChannel'] \\\n",
    "    .value_counts()"
   ]
  },
  {
   "cell_type": "markdown",
   "id": "9e9a0316",
   "metadata": {},
   "source": [
    "Ah, this is interesting. \n",
    "\n",
    "The <a href=\"https://www.sciencedirect.com/science/article/pii/S2352340918315191#t0005\" target=\"_blank\">Variables Description table in the ScienceDirect article</a> doesn't provide us with much insight on what these variables mean other than TA stands for travel agents and TO stands for tour operators. But clearly, the vast majority of reservations come through one or the other of these distribution channels.\n",
    "\n",
    "So:\n",
    "* TA/TO reservations come through a third-party (namely, the travel agent or tour operator)\n",
    "* Direct reservations are made directly on the hotel's website (no third party)\n",
    "* Corporate reservations are generally made business-to-business (so no third party, but directly between the corporate buyer and the hotel).\n",
    "* GDS (global distribution system) reservations are through a third-party (if you've ever booked a flight and then booked a hotel and car all through the airline's website, you've probably booked a GDS reservation and not even known it).\n",
    "\n",
    "Buuuut . . . we know what do with those undefined distribution channels.\n",
    "\n",
    "Because most of the reservations are from the TA/TO channel, we're simply going to apply the TA/TO distribution channel to those five reservations."
   ]
  },
  {
   "cell_type": "code",
   "execution_count": 67,
   "id": "f6ac6008",
   "metadata": {},
   "outputs": [],
   "source": [
    "# In the resort_and_city_hotel dataframe\n",
    "# change every Undefined to TA\\TO\n",
    "# in the DistributionChannel column\n",
    "resort_and_city_hotel.loc[\n",
    "    resort_and_city_hotel['DistributionChannel'] == 'Undefined',\n",
    "    'DistributionChannel'] = 'TA/TO'"
   ]
  },
  {
   "cell_type": "markdown",
   "id": "544b8e91",
   "metadata": {},
   "source": [
    "Check our work . . ."
   ]
  },
  {
   "cell_type": "code",
   "execution_count": 68,
   "id": "697f878b",
   "metadata": {},
   "outputs": [
    {
     "data": {
      "text/plain": [
       "TA/TO        97735\n",
       "Direct       14483\n",
       "Corporate     6491\n",
       "GDS            193\n",
       "Name: DistributionChannel, dtype: int64"
      ]
     },
     "execution_count": 68,
     "metadata": {},
     "output_type": "execute_result"
    }
   ],
   "source": [
    "resort_and_city_hotel['DistributionChannel'] \\\n",
    "    .value_counts()"
   ]
  },
  {
   "cell_type": "markdown",
   "id": "d52c3672",
   "metadata": {},
   "source": [
    "And we're good to go."
   ]
  },
  {
   "cell_type": "markdown",
   "id": "85930d68",
   "metadata": {},
   "source": [
    "Last up of the categorical variables is ReservationStatus.\n",
    "\n",
    "How many unique values are there in this variable?"
   ]
  },
  {
   "cell_type": "code",
   "execution_count": 69,
   "id": "78d1d0ad",
   "metadata": {},
   "outputs": [
    {
     "data": {
      "text/plain": [
       "3"
      ]
     },
     "execution_count": 69,
     "metadata": {},
     "output_type": "execute_result"
    }
   ],
   "source": [
    "# How many unique values are there\n",
    "# in the ReservationStatus column\n",
    "# of the resort_and_city_hotel dataframe?\n",
    "resort_and_city_hotel['ReservationStatus'] \\\n",
    "    .nunique()"
   ]
  },
  {
   "cell_type": "markdown",
   "id": "d0854f28",
   "metadata": {},
   "source": [
    "And they are . . ."
   ]
  },
  {
   "cell_type": "code",
   "execution_count": 70,
   "id": "ecc884e0",
   "metadata": {},
   "outputs": [
    {
     "data": {
      "text/plain": [
       "Check-Out    74745\n",
       "Canceled     42954\n",
       "No-Show       1203\n",
       "Name: ReservationStatus, dtype: int64"
      ]
     },
     "execution_count": 70,
     "metadata": {},
     "output_type": "execute_result"
    }
   ],
   "source": [
    "# For the entire dataset,\n",
    "# how many of each ReservationStatus\n",
    "# are there? \n",
    "resort_and_city_hotel['ReservationStatus'] \\\n",
    "    .value_counts()"
   ]
  },
  {
   "cell_type": "markdown",
   "id": "57858886",
   "metadata": {},
   "source": [
    "Viewed as percentages . . ."
   ]
  },
  {
   "cell_type": "code",
   "execution_count": 71,
   "id": "bb49db0a",
   "metadata": {},
   "outputs": [
    {
     "data": {
      "text/plain": [
       "Check-Out    0.628627\n",
       "Canceled     0.361255\n",
       "No-Show      0.010118\n",
       "Name: ReservationStatus, dtype: float64"
      ]
     },
     "execution_count": 71,
     "metadata": {},
     "output_type": "execute_result"
    }
   ],
   "source": [
    "# For the entire dataset,\n",
    "# how many of each ReservationStatus\n",
    "# are there? \n",
    "resort_and_city_hotel['ReservationStatus'] \\\n",
    "    .value_counts(normalize=True)"
   ]
  },
  {
   "cell_type": "markdown",
   "id": "9ab8f5a2",
   "metadata": {},
   "source": [
    " This aligns with what we discovered earlier: around 40% of reservations are canceled.\n",
    " \n",
    " But, 63% of reservations do check out, which indicates these are the customers that showed up, stayed, and checked-out.\n",
    " \n",
    " However, the 1% of reservations that are no shows is an interesting development. This amounts to 1203 reservations. \n",
    " \n",
    " Let's take a look at a random group of 10 of these No-Show reservations."
   ]
  },
  {
   "cell_type": "code",
   "execution_count": 72,
   "id": "43128564",
   "metadata": {},
   "outputs": [
    {
     "data": {
      "text/html": [
       "<div>\n",
       "<style scoped>\n",
       "    .dataframe tbody tr th:only-of-type {\n",
       "        vertical-align: middle;\n",
       "    }\n",
       "\n",
       "    .dataframe tbody tr th {\n",
       "        vertical-align: top;\n",
       "    }\n",
       "\n",
       "    .dataframe thead th {\n",
       "        text-align: right;\n",
       "    }\n",
       "</style>\n",
       "<table border=\"1\" class=\"dataframe\">\n",
       "  <thead>\n",
       "    <tr style=\"text-align: right;\">\n",
       "      <th></th>\n",
       "      <th>Adults</th>\n",
       "      <th>Children</th>\n",
       "      <th>Babies</th>\n",
       "      <th>Meal</th>\n",
       "      <th>ReservedRoomType</th>\n",
       "      <th>RequiredCarParkingSpaces</th>\n",
       "      <th>Country</th>\n",
       "      <th>ArrivalDate</th>\n",
       "      <th>Agent</th>\n",
       "      <th>Company</th>\n",
       "      <th>...</th>\n",
       "      <th>DaysInWaitingList</th>\n",
       "      <th>TotalOfSpecialRequests</th>\n",
       "      <th>DepositType</th>\n",
       "      <th>MarketSegment</th>\n",
       "      <th>DistributionChannel</th>\n",
       "      <th>AssignedRoomType</th>\n",
       "      <th>ADR</th>\n",
       "      <th>LeadTime</th>\n",
       "      <th>ReservationStatus</th>\n",
       "      <th>ReservationStatusDate</th>\n",
       "    </tr>\n",
       "  </thead>\n",
       "  <tbody>\n",
       "    <tr>\n",
       "      <th>40450</th>\n",
       "      <td>2</td>\n",
       "      <td>0</td>\n",
       "      <td>0</td>\n",
       "      <td>BB</td>\n",
       "      <td>A</td>\n",
       "      <td>0</td>\n",
       "      <td>PRT</td>\n",
       "      <td>2015-08-09</td>\n",
       "      <td>27</td>\n",
       "      <td>0</td>\n",
       "      <td>...</td>\n",
       "      <td>0</td>\n",
       "      <td>1</td>\n",
       "      <td>No Deposit</td>\n",
       "      <td>Offline TA/TO</td>\n",
       "      <td>TA/TO</td>\n",
       "      <td>A</td>\n",
       "      <td>63.75</td>\n",
       "      <td>107</td>\n",
       "      <td>No-Show</td>\n",
       "      <td>2015-08-09</td>\n",
       "    </tr>\n",
       "    <tr>\n",
       "      <th>47343</th>\n",
       "      <td>2</td>\n",
       "      <td>0</td>\n",
       "      <td>0</td>\n",
       "      <td>NM</td>\n",
       "      <td>A</td>\n",
       "      <td>0</td>\n",
       "      <td>DZA</td>\n",
       "      <td>2016-03-04</td>\n",
       "      <td>9</td>\n",
       "      <td>0</td>\n",
       "      <td>...</td>\n",
       "      <td>0</td>\n",
       "      <td>0</td>\n",
       "      <td>No Deposit</td>\n",
       "      <td>Online TA</td>\n",
       "      <td>TA/TO</td>\n",
       "      <td>A</td>\n",
       "      <td>83.40</td>\n",
       "      <td>17</td>\n",
       "      <td>No-Show</td>\n",
       "      <td>2016-03-04</td>\n",
       "    </tr>\n",
       "    <tr>\n",
       "      <th>72285</th>\n",
       "      <td>1</td>\n",
       "      <td>0</td>\n",
       "      <td>0</td>\n",
       "      <td>BB</td>\n",
       "      <td>A</td>\n",
       "      <td>0</td>\n",
       "      <td>FRA</td>\n",
       "      <td>2017-08-05</td>\n",
       "      <td>9</td>\n",
       "      <td>0</td>\n",
       "      <td>...</td>\n",
       "      <td>0</td>\n",
       "      <td>1</td>\n",
       "      <td>No Deposit</td>\n",
       "      <td>Online TA</td>\n",
       "      <td>TA/TO</td>\n",
       "      <td>A</td>\n",
       "      <td>121.50</td>\n",
       "      <td>102</td>\n",
       "      <td>No-Show</td>\n",
       "      <td>2017-08-05</td>\n",
       "    </tr>\n",
       "    <tr>\n",
       "      <th>54168</th>\n",
       "      <td>2</td>\n",
       "      <td>0</td>\n",
       "      <td>0</td>\n",
       "      <td>BB</td>\n",
       "      <td>A</td>\n",
       "      <td>0</td>\n",
       "      <td>PRT</td>\n",
       "      <td>2016-07-22</td>\n",
       "      <td>0</td>\n",
       "      <td>40</td>\n",
       "      <td>...</td>\n",
       "      <td>0</td>\n",
       "      <td>0</td>\n",
       "      <td>No Deposit</td>\n",
       "      <td>Corporate</td>\n",
       "      <td>Corporate</td>\n",
       "      <td>E</td>\n",
       "      <td>75.00</td>\n",
       "      <td>0</td>\n",
       "      <td>No-Show</td>\n",
       "      <td>2016-07-22</td>\n",
       "    </tr>\n",
       "    <tr>\n",
       "      <th>54355</th>\n",
       "      <td>2</td>\n",
       "      <td>0</td>\n",
       "      <td>0</td>\n",
       "      <td>BB</td>\n",
       "      <td>D</td>\n",
       "      <td>0</td>\n",
       "      <td>GBR</td>\n",
       "      <td>2016-07-27</td>\n",
       "      <td>9</td>\n",
       "      <td>0</td>\n",
       "      <td>...</td>\n",
       "      <td>0</td>\n",
       "      <td>1</td>\n",
       "      <td>No Deposit</td>\n",
       "      <td>Online TA</td>\n",
       "      <td>TA/TO</td>\n",
       "      <td>A</td>\n",
       "      <td>99.45</td>\n",
       "      <td>191</td>\n",
       "      <td>No-Show</td>\n",
       "      <td>2016-07-27</td>\n",
       "    </tr>\n",
       "    <tr>\n",
       "      <th>60490</th>\n",
       "      <td>2</td>\n",
       "      <td>0</td>\n",
       "      <td>0</td>\n",
       "      <td>BB</td>\n",
       "      <td>D</td>\n",
       "      <td>0</td>\n",
       "      <td>PRT</td>\n",
       "      <td>2016-11-28</td>\n",
       "      <td>0</td>\n",
       "      <td>0</td>\n",
       "      <td>...</td>\n",
       "      <td>0</td>\n",
       "      <td>0</td>\n",
       "      <td>No Deposit</td>\n",
       "      <td>Groups</td>\n",
       "      <td>TA/TO</td>\n",
       "      <td>D</td>\n",
       "      <td>80.00</td>\n",
       "      <td>35</td>\n",
       "      <td>No-Show</td>\n",
       "      <td>2016-11-28</td>\n",
       "    </tr>\n",
       "    <tr>\n",
       "      <th>48725</th>\n",
       "      <td>1</td>\n",
       "      <td>0</td>\n",
       "      <td>0</td>\n",
       "      <td>BB</td>\n",
       "      <td>A</td>\n",
       "      <td>0</td>\n",
       "      <td>PAK</td>\n",
       "      <td>2016-04-07</td>\n",
       "      <td>9</td>\n",
       "      <td>0</td>\n",
       "      <td>...</td>\n",
       "      <td>0</td>\n",
       "      <td>0</td>\n",
       "      <td>No Deposit</td>\n",
       "      <td>Online TA</td>\n",
       "      <td>TA/TO</td>\n",
       "      <td>A</td>\n",
       "      <td>80.75</td>\n",
       "      <td>79</td>\n",
       "      <td>No-Show</td>\n",
       "      <td>2016-04-07</td>\n",
       "    </tr>\n",
       "    <tr>\n",
       "      <th>64112</th>\n",
       "      <td>1</td>\n",
       "      <td>0</td>\n",
       "      <td>0</td>\n",
       "      <td>BB</td>\n",
       "      <td>A</td>\n",
       "      <td>0</td>\n",
       "      <td>PRT</td>\n",
       "      <td>2017-03-13</td>\n",
       "      <td>254</td>\n",
       "      <td>0</td>\n",
       "      <td>...</td>\n",
       "      <td>0</td>\n",
       "      <td>0</td>\n",
       "      <td>No Deposit</td>\n",
       "      <td>Groups</td>\n",
       "      <td>TA/TO</td>\n",
       "      <td>A</td>\n",
       "      <td>178.00</td>\n",
       "      <td>20</td>\n",
       "      <td>No-Show</td>\n",
       "      <td>2017-03-13</td>\n",
       "    </tr>\n",
       "    <tr>\n",
       "      <th>48927</th>\n",
       "      <td>2</td>\n",
       "      <td>0</td>\n",
       "      <td>0</td>\n",
       "      <td>BB</td>\n",
       "      <td>D</td>\n",
       "      <td>0</td>\n",
       "      <td>GEO</td>\n",
       "      <td>2016-04-12</td>\n",
       "      <td>9</td>\n",
       "      <td>0</td>\n",
       "      <td>...</td>\n",
       "      <td>0</td>\n",
       "      <td>0</td>\n",
       "      <td>No Deposit</td>\n",
       "      <td>Online TA</td>\n",
       "      <td>TA/TO</td>\n",
       "      <td>D</td>\n",
       "      <td>143.60</td>\n",
       "      <td>9</td>\n",
       "      <td>No-Show</td>\n",
       "      <td>2016-04-12</td>\n",
       "    </tr>\n",
       "    <tr>\n",
       "      <th>10211</th>\n",
       "      <td>2</td>\n",
       "      <td>0</td>\n",
       "      <td>0</td>\n",
       "      <td>BB</td>\n",
       "      <td>D</td>\n",
       "      <td>0</td>\n",
       "      <td>PRT</td>\n",
       "      <td>2017-02-20</td>\n",
       "      <td>0</td>\n",
       "      <td>0</td>\n",
       "      <td>...</td>\n",
       "      <td>0</td>\n",
       "      <td>1</td>\n",
       "      <td>No Deposit</td>\n",
       "      <td>Direct</td>\n",
       "      <td>Direct</td>\n",
       "      <td>D</td>\n",
       "      <td>53.00</td>\n",
       "      <td>2</td>\n",
       "      <td>No-Show</td>\n",
       "      <td>2017-02-20</td>\n",
       "    </tr>\n",
       "  </tbody>\n",
       "</table>\n",
       "<p>10 rows × 27 columns</p>\n",
       "</div>"
      ],
      "text/plain": [
       "       Adults  Children  Babies Meal ReservedRoomType  \\\n",
       "40450       2         0       0   BB                A   \n",
       "47343       2         0       0   NM                A   \n",
       "72285       1         0       0   BB                A   \n",
       "54168       2         0       0   BB                A   \n",
       "54355       2         0       0   BB                D   \n",
       "60490       2         0       0   BB                D   \n",
       "48725       1         0       0   BB                A   \n",
       "64112       1         0       0   BB                A   \n",
       "48927       2         0       0   BB                D   \n",
       "10211       2         0       0   BB                D   \n",
       "\n",
       "       RequiredCarParkingSpaces Country ArrivalDate Agent Company  ...  \\\n",
       "40450                         0     PRT  2015-08-09    27       0  ...   \n",
       "47343                         0     DZA  2016-03-04     9       0  ...   \n",
       "72285                         0     FRA  2017-08-05     9       0  ...   \n",
       "54168                         0     PRT  2016-07-22     0      40  ...   \n",
       "54355                         0     GBR  2016-07-27     9       0  ...   \n",
       "60490                         0     PRT  2016-11-28     0       0  ...   \n",
       "48725                         0     PAK  2016-04-07     9       0  ...   \n",
       "64112                         0     PRT  2017-03-13   254       0  ...   \n",
       "48927                         0     GEO  2016-04-12     9       0  ...   \n",
       "10211                         0     PRT  2017-02-20     0       0  ...   \n",
       "\n",
       "      DaysInWaitingList TotalOfSpecialRequests  DepositType  MarketSegment  \\\n",
       "40450                 0                      1   No Deposit  Offline TA/TO   \n",
       "47343                 0                      0   No Deposit      Online TA   \n",
       "72285                 0                      1   No Deposit      Online TA   \n",
       "54168                 0                      0   No Deposit      Corporate   \n",
       "54355                 0                      1   No Deposit      Online TA   \n",
       "60490                 0                      0   No Deposit         Groups   \n",
       "48725                 0                      0   No Deposit      Online TA   \n",
       "64112                 0                      0   No Deposit         Groups   \n",
       "48927                 0                      0   No Deposit      Online TA   \n",
       "10211                 0                      1   No Deposit         Direct   \n",
       "\n",
       "      DistributionChannel AssignedRoomType     ADR  LeadTime  \\\n",
       "40450               TA/TO                A   63.75       107   \n",
       "47343               TA/TO                A   83.40        17   \n",
       "72285               TA/TO                A  121.50       102   \n",
       "54168           Corporate                E   75.00         0   \n",
       "54355               TA/TO                A   99.45       191   \n",
       "60490               TA/TO                D   80.00        35   \n",
       "48725               TA/TO                A   80.75        79   \n",
       "64112               TA/TO                A  178.00        20   \n",
       "48927               TA/TO                D  143.60         9   \n",
       "10211              Direct                D   53.00         2   \n",
       "\n",
       "       ReservationStatus ReservationStatusDate  \n",
       "40450            No-Show            2015-08-09  \n",
       "47343            No-Show            2016-03-04  \n",
       "72285            No-Show            2017-08-05  \n",
       "54168            No-Show            2016-07-22  \n",
       "54355            No-Show            2016-07-27  \n",
       "60490            No-Show            2016-11-28  \n",
       "48725            No-Show            2016-04-07  \n",
       "64112            No-Show            2017-03-13  \n",
       "48927            No-Show            2016-04-12  \n",
       "10211            No-Show            2017-02-20  \n",
       "\n",
       "[10 rows x 27 columns]"
      ]
     },
     "execution_count": 72,
     "metadata": {},
     "output_type": "execute_result"
    }
   ],
   "source": [
    "# Display a random selection\n",
    "# of 10 reservations\n",
    "# where the ReservationStatus\n",
    "# is equal to No-Show\n",
    "resort_and_city_hotel[resort_and_city_hotel['ReservationStatus'] == \\\n",
    "                      'No-Show'].sample(n=10)"
   ]
  },
  {
   "cell_type": "markdown",
   "id": "7d52c7d4",
   "metadata": {},
   "source": [
    "So, that's what I was wondering. Scroll over and look at the ADR column. Every one of these reservations includes an ADR, but does that mean the customer was charged this rate for their stay even though the custome did not show? Or does it mean that the customer *would* have paid (but did *not* pay) this amount? Does it mean something else? \n",
    "\n",
    "What we *do* know from the <a href=\"https://www.sciencedirect.com/science/article/pii/S2352340918315191#t0005\" target=\"_blank\">Variables Description table in the ScienceDirect article</a> is that No-Show reservations \" . . . did not check-in &#91;but&#93;  did inform the hotel of the reason why.\" In any case, this might be worthy of further investigation: Why do No-Show reservations show a positive ADR?\n",
    "\n",
    "What if we break this down by hotel?"
   ]
  },
  {
   "cell_type": "code",
   "execution_count": 73,
   "id": "0b580b34",
   "metadata": {},
   "outputs": [
    {
     "data": {
      "text/plain": [
       "Hotel   ReservationStatus\n",
       "City    Check-Out            0.582881\n",
       "        Canceled             0.405568\n",
       "        No-Show              0.011550\n",
       "Resort  Check-Out            0.720250\n",
       "        Canceled             0.272502\n",
       "        No-Show              0.007248\n",
       "Name: ReservationStatus, dtype: float64"
      ]
     },
     "execution_count": 73,
     "metadata": {},
     "output_type": "execute_result"
    }
   ],
   "source": [
    "# What is the percentage \n",
    "# of each ReservationStatus,\n",
    "# grouped by hotel?\n",
    "resort_and_city_hotel.groupby(['Hotel'])['ReservationStatus'] \\\n",
    "    .value_counts(normalize=True)"
   ]
  },
  {
   "cell_type": "markdown",
   "id": "202249bc",
   "metadata": {},
   "source": [
    "Clearly, if we only look at this view of the data, the Resort hotel is doing a much better job of converting booked customers to customers who complete their stay.\n",
    "\n",
    "Again: why? What, if anything, is the Resort hotel doing differently than City hotel to have far fewer no-shows and far more customers who complete their stay and check out?\n",
    "\n",
    "Okay, that's it for this post. Before you go, think about these questions:\n",
    "* What have you learned about the hotel bookings data so far? (write down what you learned about the data)\n",
    "* What questions do you have about the data? (write those questions down)\n",
    "* What have you learned about asking your data questions with Python? (write this down, too)\n",
    "* What questions do you have about asking questions of data? (write this down . . .)\n",
    "\n",
    "More to come in Part 4.\n"
   ]
  }
 ],
 "metadata": {
  "hide_input": false,
  "kernelspec": {
   "display_name": "Python 3",
   "language": "python",
   "name": "python3"
  },
  "language_info": {
   "codemirror_mode": {
    "name": "ipython",
    "version": 3
   },
   "file_extension": ".py",
   "mimetype": "text/x-python",
   "name": "python",
   "nbconvert_exporter": "python",
   "pygments_lexer": "ipython3",
   "version": "3.8.11"
  }
 },
 "nbformat": 4,
 "nbformat_minor": 5
}
